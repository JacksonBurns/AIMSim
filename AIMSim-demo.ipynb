{
 "cells": [
  {
   "cell_type": "markdown",
   "metadata": {},
   "source": [
    "# AIMSim Demo\n",
    "This notebook demonstrates the key uses of _AIMSim_ as a graphical user interface, command line tool, and scripting utility. For detailed explanations and to view the source code for _AIMSim_, visit our [documentation page](https://vlachosgroup.github.io/AIMSim/)."
   ]
  },
  {
   "cell_type": "markdown",
   "metadata": {},
   "source": [
    "## Installing _AIMSim_\n",
    "For users with Python already in use on their devices, it is _highly_ recommended to first create a virtual environment before installing _AIMSim_. This package has a large number of dependencies with only a handful of versions supported, so conflicts are likely unless a virtual environment is used.\n",
    "\n",
    "For new Python users, the authors recommended installing anaconda navigator to manage dependencies for _AIMSim_ and make installation easier overall. Once anaconda navigator is ready, create a new environment with Python 3.7, open a terminal or command prompt in this environment, and follow the instructions below. \n",
    "\n",
    "We reccomend installing _AIMSim_ using the commands shown below (omit exclamation points and the %%capture, unless you are running in a Jupyter notebook):"
   ]
  },
  {
   "cell_type": "code",
   "execution_count": 4,
   "metadata": {},
   "outputs": [],
   "source": [
    "%%capture\n",
    "!pip install aimsim"
   ]
  },
  {
   "cell_type": "markdown",
   "metadata": {},
   "source": [
    "Now, start the _AIMSim_ GUI by typing `python -m aimsim` or simply `aimsim` into the command line."
   ]
  },
  {
   "attachments": {},
   "cell_type": "markdown",
   "metadata": {},
   "source": [
    "## Graphical User Interface Walkthrough\n",
    "For most users, the Graphical User Interface (GUI) will provide access to all the key functionalities in _AIMSim_. The GUI works by serving the user with drop downs and text fields which represent settings that would otherwise need to be configured in a file by hand. This file is written to the disk by the GUI as part of execution so that the file can be used as a 'starting point' for more advanced use cases.\n",
    "\n",
    "**Important Note**: Jupyter Notebook _cannot_ run _AIMSim_ from Binder. In order to actually run the _AIMSim_ GUI alongside this tutorial, you will need to download this notebook and run it from a local installation of Jupyter, or follow the installation instructions above and start _AIMSim_ from there. You can install Jupyter [here](https://jupyter.org/install).\n",
    "<div>\n",
    "<img src=\"attachment:AIMSim-GUI.png\" width=\"500\"/>\n",
    "</div>\n",
    "\n",
    "\n",
    "### Row 1: Molecule Database Entry\n",
    "This field accepts a file or directory path containing an input set of molecules in one of the accepted formats: SMILES strings, Protein Data Bank files, and excel files containing these data types.\n",
    "\n",
    "Example:\n",
    "\n",
    "`/Users/chemist/Desktop/SMILES_database.smi`\n",
    "\n",
    "The `Browse...` button can also be used to find files anywhere on your computer using your system's default file explorer.\n",
    "\n",
    "### Row 2: Molecule Database Checkboxes\n",
    "#### Database Similarity Plot\n",
    "Checking this box will generate a similarity distribution with _AIMSim's_ default color scheme and labels. To customize this plot further, edit the configuration file produced by _AIMSim_ by clicking `Open Config`, then re-submit the file through the command line interface.\n",
    "\n",
    "Example:\n",
    "<div>\n",
    "<img src=\"attachment:image-4.png\" width=\"200\"/>\n",
    "</div>\n",
    "\n",
    "In addition to the similarity distribution, this will create a heatmap showing pairwise comparisons between the two species. As above, edit the configuration file to control the appearance of this plot.\n",
    "\n",
    "Example:\n",
    "<div>\n",
    "<img src=\"attachment:image-5.png\" width=\"200\"/>\n",
    "</div>\n",
    "\n",
    "#### Property Similarity Plot\n",
    "Like in the previous two examples, checking this box will create a plot showing how a provided molecular property varies according to the chosen molecular fingerprint. For this to work, data must be provided in a comma-separated value format (which can be generated using Excel with Save As... -> CSV) where the rightmost column is a numerical value (the property of interest).\n",
    "\n",
    "Example:\n",
    "\n",
    "| SMILES | Boiling Point |\n",
    "|--------|---------------|\n",
    "| C      | -161.6        |\n",
    "| CC     | -89           |\n",
    "| CCC    | -42           |\n",
    "\n",
    "\n",
    "### Row 3: Target Molecule Entry\n",
    "Provide a SMILES string representing a single molecule for comparison to the provided database of molecules. In the screenshot above, the default option is shown (since this field is optional). Any valid SMILES strings are accepted, and any errors in the SMILES string will not affect the execution of other tasks.\n",
    "\n",
    "As in the Database Entry Field, use the `Browse...` button to find a single molecule in an accepted data format using a file explorer popup window.\n",
    "\n",
    "\n",
    "### Row 4: Similarity Measure\n",
    "This dropdown includes all of the similarity metrics currently implemented in _AIMSim_. The default selected metric is likely a great starting point for most users, and the additional metrics are provided for advanced users or more specific use cases. \n",
    "\n",
    "Available Similarity Measures are automatically updated according to the fingerprint currently selected. Not all metrics are compatible with all fingerprints, and _AIMSim_ recognizes will only allow the user to select valid combinations.\n",
    "\n",
    "_AIMSim_ also has the ability to determine which similarity metric is best to represent the data in hand. Selecting `AI Search` will identify said descriptor and use it in subsequent analysis. Similarly, _AIMSim_ can determine which fingerprint best represents the data, though this feature is currently only accessible via the command line (see the specifications file below).\n",
    "\n",
    "For a complete list of implemented descriptors, run _AIMSim_ locally or check the online documentation [here](https://vlachosgroup.github.io/AIMSim/implemented_metrics.html).\n",
    "\n",
    "\n",
    "### Row 5: Molecular Descriptor\n",
    "This dropdown includes all of the molecular descriptors, mainly fingerprints, currently implemented in _AIMSim_:\n",
    "\n",
    "|#|Fingerprint|\n",
    "|---|---|\n",
    "|1|morgan|\n",
    "|2|topological|\n",
    "|3|daylight|\n",
    "|4|minhash|\n",
    "\n",
    "Each of these fingerprints should be generally applicable for chemical problems, though they are all provided to serve as an easy way to compare the results according to fingerprinting approach.\n",
    "\n",
    "Additional descriptors are included with _AIMSim_ which are not mathematically compatible with some of the similarity measures. When such a descriptor is selected, the corresponding similarity measure will be removed from the dropdown.\n",
    "\n",
    "The `Exp. Descriptors` checkbox adds additional molecular descriptors into the `Molecular Descriptor` dropdown. These are marked as _experimental_ because they are generated using third-party libraries over which we have very little or no control. The descriptors generated by these libraries should be used only when the user has a very specific need for a descriptor as implemented in one of the packages below:\n",
    " - [ccbmlib](https://doi.org/10.12688/f1000research.22292.2): All molecular fingerprints included in the `ccbmlib` library have been reproduced in _AIMSim_. Read about these fingerprints [in the `ccbmlib` repository](https://github.com/vogt-m/ccbmlib).\n",
    " - [mordred](https://doi.org/10.1186/s13321-018-0258-y): All 1000+ descriptors included in `mordred` are available in _AIMSim_, though as of Januray 2022 it seems that `mordred` is no longer being maintained and has a significant amount of bugs. Use at your own risk. (command line only)\n",
    " - [PaDELPy](https://doi.org/10.1002/jcc.21707): [This package](https://github.com/ecrl/padelpy) provides access to all of the molecular descriptors included as part of the PaDEL-Descriptor standalone Java program. (command line only)\n",
    "\n",
    "### Row 6: The Power Buttons\n",
    "#### Run\n",
    "Pressing this button will call a number of input checkers to verify that the information entered into the fields above is valid, and then the tasks will be passed into _AIMSim_ for execution. Additional input to _AIMSim_ needed for some tasks may be requested from the command line.\n",
    "\n",
    "For large collections of molecules with substantial run times, your operating system may report that _AIMSim_ has stopped responding and should be closed. This is likely not the case, and _AIMSim_ is simply executing your requested tasks. If unsure, try checking the `Verbose` checkbox discussed below, which will provide near-constant output while _AIMSim_ is running.\n",
    "\n",
    "#### Open Config\n",
    "Using your system's default text editor, this button will open the configuration file generated by _AIMSim_ after pressing the run button. This is useful for fine-tuning your plots or re-running the exact same tasks in the future. This configuration file can also access additional functionality present in _AIMSim_ which is not included in the GUI, such as the sampling ratio for the data (covered in greater depth in the __Command Line and Configuration Files__ section below). To use this configuration file, include the name of the file after your call to _AIMSim_ on the command line, i.e.:\n",
    "\n",
    "`aimsim aimsim-ui-config.yaml` or `python -m aimsim aimsim-ui-config.yaml`\n",
    "\n",
    "Because of the way Python install libraries like _AIMSim_, this file will likely be saved somewhere difficult to find among many other internal Python files. It is highly recommended to make a copy of this file in a more readily accessible location, or copy the contents of this file into another one. The name of the file can also be changed to something more meaningful (i.e., JWB-Solvent-Screen-123.yaml) as long as the file extension (.yaml) is still included.\n",
    "\n",
    "### Row 7: Configuration Checkboxes\n",
    "### Verbose\n",
    "Selecting this checkbox will cause _AIMSim_ to emit near-constant updates to the command line on its status during execution. This is useful to confirm that _AIMSim_ is executing and has not crashed, and also to provide additional information about errors in the input data.\n",
    "\n",
    "For large datasets, this may generate a _significant_ amount of command line output. A pairwise comparison of 10,000 molecules would require 100,000,000 (10,000 \\* 10,000) operations, generating at least that many lines of text in the console.\n",
    "\n",
    "Example __Verbose__ output:\n",
    "\n",
    "```\n",
    "Reading SMILES strings from C:\\path\\to\\file\\small.smi\n",
    "Processing O=S(C1=CC=CC=C1)(N2CCOCC2)=O (1/5)\n",
    "Processing O=S(C1=CC=C(C(C)(C)C)C=C1)(N2CCOCC2)=O (2/5)\n",
    "Processing O=S(C1=CC=C(C2=CC=CC=C2)C=C1)(N3CCOCC3)=O (3/5)\n",
    "Processing O=S(C1=CC=C(OC)C=C1)(N2CCOCC2)=O (4/5)\n",
    "Processing O=S(C1=CC=C(SC)C=C1)(N2CCOCC2)=O (5/5)\n",
    "Computing similarity of molecule num 1 against 1\n",
    "Computing similarity of molecule num 2 against 1\n",
    "Computing similarity of molecule num 3 against 1\n",
    "Computing similarity of molecule num 4 against 1\n",
    "Computing similarity of molecule num 5 against 1\n",
    "Computing similarity of molecule num 1 against 2\n",
    "```\n",
    "\n",
    "### Outlier Check\n",
    "Checking this will have _AIMSim_ create an Isolation Forest (read more about this in [Sklearn's documentation](https://scikit-learn.org/stable/modules/generated/sklearn.ensemble.IsolationForest.html)) to identify possible outliers in the input database of molecules. The results from this approach are _non-deterministic_ because of the underlying algorithm driving the Isolation Forest, so this feature is intended to be a \"sanity check\" rather than a quantitative measure of 'outlier-ness'. To truly determine how different a single example molecule is to a set of molecules, use the `Compare Target Molecule` functionality discussed above.\n",
    "\n",
    "### Enable Multiple Workers\n",
    "This checkbox will enable multiprocessing, speeding up execution time on the data. By default, _AIMSim_ will use __all__ physical cores available on your machine, which may impact performance of other programs.\n",
    "\n",
    "The user should only enable this option with datasets off a few hundred or more molecules. This is because there is additional processing time associated with creating and destroying multiple processes, so for small data sets it is faster to simply execute the comparisons serially."
   ]
  },
  {
   "cell_type": "markdown",
   "metadata": {},
   "source": [
    "## Command Line and Configuration Files\n",
    "For users who prefer to use _AIMSim_ without a user interface, a command line interface is provided. This requires the user to manually write configuration files, but allows access to more granular control and some additional features which are not included in the GUI. This can be invoked by typing `aimsim config.yaml` into your terminal or command window, where `config.yaml` is a configuration file you have provided or copied from the _AIMSim_ repository.\n",
    "\n",
    "Below is a 'maximum specification' file to be used with _AIMSim_, showing all possible settings and tasks which _AIMSim_ can ingest. Any overall settings which are left out will be inferred by _AIMSim_, and any tasks which are not included will simply not be executed. Each field used in the file is explained afterward."
   ]
  },
  {
   "cell_type": "markdown",
   "metadata": {},
   "source": [
    "### Maximum Specification File\n",
    "```\n",
    "is_verbose (bool):\n",
    "molecule_database (str): # path to excel / csv/ text file\n",
    "molecule_database_source_type (str):  # Type of source file. 'excel', 'csv', 'text'\n",
    "similarity_measure (str):  #Set to determine if auto identification required\n",
    "fingerprint_type (str):  # Set to determine if auto identification required\n",
    "measure_id_subsample (float):  # [0, 1] Subsample used for measure search\n",
    "sampling_ratio (float): # [0, 1] Subsample used for all tasks\n",
    "n_workers (int / str):   # [int, 'auto'] number of processes, or let AIMSim decide\n",
    "global_random_seed (int / str):  # int or 'random'\n",
    "    \n",
    "tasks:\n",
    "  compare_target_molecule:\n",
    "    target_molecule_smiles (str):\n",
    "    draw_molecule (bool):  # If true, strucures of target, most and least similar molecules are displayed\n",
    "    similarity_plot_settings:\n",
    "        plot_color (str): # Set a color recognized by matplotlib\n",
    "        shade (bool): # If true, the similarity density is shaded\n",
    "        plot_title (str):\n",
    "    log_file_path (str):\n",
    "    \n",
    "  visualize_dataset:\n",
    "      heatmap_plot_settings:\n",
    "        cmap (str): # matplotlib recognized cmap (color map) used for heatmap.\n",
    "        plot_title (str):\n",
    "        annotate (bool):  # If true, heatmap is annotated\n",
    "      similarity_plot_settings:\n",
    "        plot_color (str):\n",
    "        shade (bool): # If true, the similarity density is shaded\n",
    "      embedding_plot_settings:\n",
    "        plot_title (str):\n",
    "        embedding:\n",
    "          method (str): # algorithm used for embedding molecule set in 2 dimensions.\n",
    "          params:  # method specific parameters\n",
    "            random_state (int): #used for seeding stochastic algorithms\n",
    " \n",
    "  see_property_variation_w_similarity:\n",
    "    log_file_path (str):\n",
    "    property_plot_settings:\n",
    "      plot_color (str):  # Set a color recognized by matplotlib\n",
    "  \n",
    "  identify_outliers:  \n",
    "    random_state (int):\n",
    "    output (str):  # filepath or \"terminal\" to control where results are shown\n",
    "    plot_outliers (bool):\n",
    "    pair_similarity_plot_settings: # Only meaningful if plot_outliers is True\n",
    "      plot_color (str): # Set a color recognized by matplotlib\n",
    "  \n",
    "  cluster:\n",
    "    n_clusters (int):\n",
    "    clustering_method (str):\n",
    "    log_file_path (str):\n",
    "    cluster_file_path (str):\n",
    "    cluster_plot_settings:\n",
    "      cluster_colors (list): # Ensure len(list) >= n_cluster\n",
    "    embedding_plot_settings:\n",
    "      plot_title (str):\n",
    "      embedding:\n",
    "        method (str): # algorithm used for embedding molecule set in 2 dimensions.\n",
    "        params:  # method specific parameters\n",
    "          random_state (int): #used for seeding stochastic algorithms\n",
    "```"
   ]
  },
  {
   "cell_type": "markdown",
   "metadata": {},
   "source": [
    "#### Overall _AIMSim_ Settings\n",
    "These settings impact how all tasks run by _AIMSim_ will be executed.\n",
    " - `is_verbose`: Must be either `True` or `False`. When `True`, _AIMSim_ will emit text updates of during execution to the command line, useful for debugging.\n",
    " - `molecule_database`: A file path to an Excel workbook, text file containing SMILES strings, or PDB file surrounded by single quotes, i.e. `'/User/my_user/smiles_database.smi'`. Can also point to a directory containing a group of PDB files, but the file path must end with a '/' (or '\\' for Windows).\n",
    " - `molecule_database_source_type`: The type of data to be input to _AIMSim_, being either `text`, `excel`, or `pdb`.\n",
    " - `similarity_measure`: The similarity measure to be used during all tasks, chosen from the list of supported similarity measures. Automatic similarity measure determination is also supported, and can be performed by specifying `determine`.\n",
    " - `fingerprint_type`: The fingerprint type or molecular descriptor to be used during all tasks, chosen from the list of supported descriptors. Automatic determination is also supported, and can be performed by specifying `determine`.\n",
    " - `measure_id_subsample`: A decimal number between 0 and 1 specifying what fraction of the dataset to use for automatic determination of similarity measure and fingerprint. For a dataset of 10,000 molecules, setting this to `0.1` would run only 1000 randomly selected molecules, dramatically reducing runtime. This field is only needed if `determine` is used in either of the prior fields.\n",
    " - `sampling_ratio`: A decimal number between 0 and 1 specifying what fraction of the dataset to use for tasks. For a dataset of 10,000 molecules, setting this to `0.1` would run only 1000 randomly selected molecules, dramatically reducing runtime.\n",
    "  - `n_workers`: Either an integer or the string 'auto'. With an integer, _AIMSim_ will create that many processes for its operation. This number should be less than or equal to the number of _physical_ CPU cores in your computer. Set this option to 'auto' to let _AIMSim_ configure multiprocessing for you.\n",
    " - `global_random_seed`: Integer to be passed to all non-deterministic functions in _AIMSim_. By default, this value is 42 to ensure consistent results between subsequent executions of _AIMSim_. This seed will override the random seeds provided to any other _AIMSim_ tasks. Alternatively, specify 'random' to allow _AIMSim_ to randomly generate a seed."
   ]
  },
  {
   "cell_type": "markdown",
   "metadata": {},
   "source": [
    "#### Task-Specific Settings\n",
    "The settings fields below dictate the behavior of _AIMSim_ when performing its various tasks.\n",
    "\n",
    "##### Compare Target Molecule\n",
    "Generates a similarity distribution for the dataset compared to an individual molecule.\n",
    " - `target_molecule_smiles`: SMILES string for the molecule used in comparison to the dataset.\n",
    " - `draw_molecule`: If this is set to True, then _AIMSim_ draws the structure of the target molecule, and of the molecule most and least similar to it.\n",
    "     - `similarity_plot_settings`: Controls the appearance of the distribution.\n",
    "         - `plot_color`: Can be any color recognized by the _matplotlib_ library.\n",
    "         - `shade`: `True` or `False`, whether or not to shade in the area under the curve.\n",
    "         - `plot_title`: String containing text to be written above the plot.\n",
    "     - `log_file_path`: String specifying a file to write output to for the execution of this task. Useful for debugging.\n",
    "\n",
    "##### Visualize Dataset\n",
    "Generates a pairwise comparison matrix for all molecules in the dataset.\n",
    " - `heatmap_plot_settings`: Control the appearance of the plot.\n",
    "     - `cmap`: _matplotlib_ recognized cmap (color map) used for heatmap.\n",
    "     - `plot_title`: String containing text to be written above the plot.\n",
    "     - `annotate`: `True` or `False`, controls whether or not _AIMSim_ will write annotations over the heatmap.\n",
    " - `similarity_plot_settings`: Controls the appearance of the distribution.\n",
    "     - `plot_color`: Can be any color recognized by the _matplotlib_ library.\n",
    "     - `shade`: `True` or `False`, whether or not to shade in the area under the curve.\n",
    " \n",
    " - `embedding_plot_settings`: Constrols the lower dimensional embedding of the dataset.\n",
    "     - `plot_title`: String containing text to be written above the plot.\n",
    "     - `embedding`: Set the algorithmic aspects of the embedding\n",
    "         - `method`: Label specifying the algorithm embedding the molecule set in 2 dimensions.\n",
    "         - `params`:  Specific hyperparameters which are passed through to the underlying implementation\n",
    "             - `random_state`: Number used for seeding stochastic algorithms\n",
    "\n",
    "##### Property Variation Visualization\n",
    "Creates a plot of how a given property in the input molecule set varies according to the structural fingerprint chosen.\n",
    " - `log_file_path`: String specifying a file to write output to for the execution of this task. Useful for debugging or retrospection.\n",
    "     - `property_plot_settings`: Control the appearance of the plot.\n",
    "       - `plot_color`: Any color recognized by the _matplotlib_ library.\n",
    "  \n",
    "##### Identify Outliers\n",
    "Trains an [IsolationForest](https://scikit-learn.org/stable/modules/generated/sklearn.ensemble.IsolationForest.html) on the input data to check for potential outliers.\n",
    " - `random_state`: An integer to pass through to random_state in sklearn. _AIMSim_ sets this to 42 by default.\n",
    " - `output`: A string which specifies where the output of the outlier search should go. This can be either a filepath or \"terminal\" to write the output directly to the terminal.\n",
    " - `plot_outliers`: Set this to `True` to generate a 2D plot of which molecules are potential outliers.\n",
    " - `pair_similarity_plot_settings`: Only meaningful if plot_outliers is True, allows access to plot settings.\n",
    "     - `plot_color`: Any color recognized by the _matplotlib_ library.\n",
    "       \n",
    "##### Cluster\n",
    "Use a clustering algorithm to make groups from the database of molecules.\n",
    " - `n_clusters`: The number of clusters to group the molecules into.\n",
    "     - `clustering_method`: Optional string specifying a clustering method implemented in `sklearn`, one of `kmedoids`, `ward`, or `complete_linkage`. `complete_linkage` will be chosen by default if no alternative is provided.\n",
    "     - `log_file_path`: String specifying a file to write output to for the execution of this task. Useful for debugging.\n",
    "     - `cluster_file_path`: String specifying a file path where _AIMSim_ will output the result of clustering. Useful for comparing multiple clustering approaches or saving the results of large data sets.\n",
    "     - `cluster_plot_settings`: Control the appearance of the clustering plot.\n",
    "       - `cluster_colors`: A list of strings, each of which is a color recognized by _matplotlib_ to use for the clusters. Must specify at least as many colors as there are clusters. Additional colors will be ignored.\n",
    "     - `embedding_plot_settings`: Constrols the lower dimensional embedding of the dataset.\n",
    "         - `plot_title`: String containing text to be written above the plot.\n",
    "         - `embedding`: Set the algorithmic aspects of the embedding\n",
    "             - `method`: Label specifying the algorithm embedding the clustered molecule set in 2 dimensions.\n",
    "             - `params`:  Specific hyperparameters which are passed through to the underlying implementation\n",
    "                 - `random_state`: Number used for seeding stochastic algorithms"
   ]
  },
  {
   "cell_type": "markdown",
   "metadata": {},
   "source": [
    "## Writing Scripts with _AIMSim_\n",
    "Advanced users may wish to use _AIMSim_ to create their own descriptors, use the descriptor's provided in _AIMSim_ for something else entirely, or utilize the various similarity scores. Brief explanations for how to access the core functionalities of _AIMSim_ from a Python script are shown below."
   ]
  },
  {
   "cell_type": "markdown",
   "metadata": {},
   "source": [
    "### Making Custom Descriptors\n",
    "Any arbitrary numpy array can be provided as a molecular descriptor, though correct function with the similarity metrics provided with _AIMSim_ is not guaranteed."
   ]
  },
  {
   "cell_type": "code",
   "execution_count": 2,
   "metadata": {},
   "outputs": [],
   "source": [
    "from aimsim.ops.descriptor import Descriptor\n",
    "desc = Descriptor()"
   ]
  },
  {
   "cell_type": "markdown",
   "metadata": {},
   "source": [
    "With the `Descriptor` class instantiated, one can then call the methods to set the value(s) of the descriptor."
   ]
  },
  {
   "cell_type": "code",
   "execution_count": 14,
   "metadata": {},
   "outputs": [
    {
     "data": {
      "text/plain": [
       "array([1, 2, 3])"
      ]
     },
     "execution_count": 14,
     "metadata": {},
     "output_type": "execute_result"
    }
   ],
   "source": [
    "import numpy as np\n",
    "custom_desc = np.array([1, 2, 3])\n",
    "desc.set_manually(custom_desc)\n",
    "desc.numpy_"
   ]
  },
  {
   "cell_type": "markdown",
   "metadata": {},
   "source": [
    "This same function can be achieved by passing in a numpy array for the keyword argument `value` in the constructor for `Descriptor`, as shown below:"
   ]
  },
  {
   "cell_type": "code",
   "execution_count": 15,
   "metadata": {},
   "outputs": [
    {
     "data": {
      "text/plain": [
       "array([1, 2, 3])"
      ]
     },
     "execution_count": 15,
     "metadata": {},
     "output_type": "execute_result"
    }
   ],
   "source": [
    "desc = Descriptor(custom_desc)\n",
    "desc.numpy_"
   ]
  },
  {
   "cell_type": "markdown",
   "metadata": {},
   "source": [
    "The above code is useful for individually changing a descriptor for one molecule in a `MoleculeSet` but is obviously not practical for bulk custom descriptors. To assign descriptors for an entire set of molecules at once, instantiate the `MoleculeSet` class and call the `_set_descriptor` method passing in a 2-dimensional numpy array of descriptors."
   ]
  },
  {
   "cell_type": "markdown",
   "metadata": {},
   "source": [
    "```\n",
    "from AIMSim.chemical_datastructures.molecule_set import MoleculeSet\n",
    "molset = MoleculeSet(\n",
    "    '/path/to/databse/smiles.txt',\n",
    "    'text',\n",
    "    False,\n",
    "    'tanimoto'\n",
    ")\n",
    "molset._set_descriptor([[1, 2, 3], [4, 5, 6]])\n",
    "```"
   ]
  },
  {
   "cell_type": "markdown",
   "metadata": {},
   "source": [
    "### Generating Descriptors with _AIMSim_\n",
    "Because _AIMSim_ is able to generate such a wise variety of molecular fingerprints and descriptors from only the SMILES strings, you may want to avoid re-inventing the wheel and use the descriptors that it generates. There are two general approaches to doing this, and the approach used depends on what other code you already have in place:\n",
    " 1. If you have only SMILES strings to turn into fingerprints/descriptors, the `Molecule` class should be used to handle generating the molecule object and generating the descriptors.\n",
    " 2. If you have already created a molecule using `RDKit`, you must provide the existing molecule in your call to the constructor in `Molecule`.\n",
    "These approaches are covered in this order below."
   ]
  },
  {
   "cell_type": "code",
   "execution_count": 1,
   "metadata": {},
   "outputs": [
    {
     "data": {
      "text/plain": [
       "array([0, 0, 0, ..., 0, 0, 0], dtype=int8)"
      ]
     },
     "execution_count": 1,
     "metadata": {},
     "output_type": "execute_result"
    }
   ],
   "source": [
    "# with a SMILES string\n",
    "smiles = \"CO\"\n",
    "from aimsim.chemical_datastructures.molecule import Molecule\n",
    "mol = Molecule(mol_smiles=smiles)\n",
    "mol.set_descriptor(fingerprint_type=\"atom-pair_fingerprint\")\n",
    "mol.get_descriptor_val()"
   ]
  },
  {
   "cell_type": "code",
   "execution_count": 17,
   "metadata": {},
   "outputs": [
    {
     "data": {
      "text/plain": [
       "array([6])"
      ]
     },
     "execution_count": 17,
     "metadata": {},
     "output_type": "execute_result"
    }
   ],
   "source": [
    "# with an RDKit molecule\n",
    "from rdkit import Chem\n",
    "\n",
    "mol_graph = Chem.MolFromSmiles(smiles)\n",
    "\n",
    "mol = Molecule(mol_graph=mol_graph)\n",
    "mol.set_descriptor(fingerprint_type=\"mordred:nAtom\")\n",
    "mol.get_descriptor_val()"
   ]
  },
  {
   "cell_type": "markdown",
   "metadata": {},
   "source": [
    "### Acessing _AIMSim_ Similarity Metrics\n",
    "As of January 2022, _AIMSim_ implements 47 unique similarity metrics for use in comparing two numbers and/or two sets of numbers. These metrics were pulled from a variety of sources, including some original implementations, so it may be of interest to use this code in your own work.\n",
    "\n",
    "All of the similarity metrics can be accessed through the `SimilarityMeasure` class, as shown below."
   ]
  },
  {
   "cell_type": "code",
   "execution_count": 3,
   "metadata": {},
   "outputs": [
    {
     "data": {
      "text/plain": [
       "0.22360679774997896"
      ]
     },
     "execution_count": 3,
     "metadata": {},
     "output_type": "execute_result"
    }
   ],
   "source": [
    "from aimsim.ops.similarity_measures import SimilarityMeasure\n",
    "from rdkit.Chem import MolFromSmiles\n",
    "\n",
    "sim_mes = SimilarityMeasure(\"driver-kroeber\")\n",
    "desc_1 = Descriptor()\n",
    "desc_1.make_fingerprint(\n",
    "    MolFromSmiles(\"COC\"),\n",
    "    \"morgan_fingerprint\",\n",
    ")\n",
    "desc_2 = Descriptor()\n",
    "desc_2.make_fingerprint(\n",
    "    MolFromSmiles(\"CCCC\"),\n",
    "    \"morgan_fingerprint\",\n",
    ")\n",
    "out = sim_mes(\n",
    "    desc_1,\n",
    "    desc_2,\n",
    ")\n",
    "out"
   ]
  },
  {
   "cell_type": "markdown",
   "metadata": {},
   "source": [
    "A complete list of supported similarity measures and the names by which _AIMSim_ recognizes them is listed in the GUI walkthrough section."
   ]
  },
  {
   "cell_type": "markdown",
   "metadata": {},
   "source": [
    "## Using AIMSim Tasks inside custom Python pipelines"
   ]
  },
  {
   "cell_type": "markdown",
   "metadata": {},
   "source": [
    "In this section we will take a look at using some of the Tasks provided by AIMSim inside custom Python scripts."
   ]
  },
  {
   "cell_type": "markdown",
   "metadata": {},
   "source": [
    "### Visualizing a Dataset"
   ]
  },
  {
   "cell_type": "markdown",
   "metadata": {},
   "source": [
    "First we create the dataset which consists of 100 samples, each containing 3 features. We will first create an Excel file and load that file via _AIMSim_ to visualize it. <b>Note that </b> columns corresponding to sample names or features in the Excel have to be prefixed by <i>'feature_'</i> \n"
   ]
  },
  {
   "cell_type": "code",
   "execution_count": 8,
   "metadata": {},
   "outputs": [],
   "source": [
    "%%capture\n",
    "!pip install openpyxl  # for using the excel writer\n",
    "\n",
    "import pandas as pd\n",
    "from numpy.random import random\n",
    "\n",
    "n_samples = 100\n",
    "dataset = {'feature_f1': random(size=n_samples),\n",
    "          'feature_f2': random(size=n_samples),\n",
    "          'feature_f3': random(size=n_samples)}\n",
    "df = pd.DataFrame(dataset)\n",
    "dataset_file = 'dataset.xlsx'\n",
    "df.to_excel(dataset_file)\n"
   ]
  },
  {
   "cell_type": "markdown",
   "metadata": {},
   "source": [
    "First we load the data into a MoleculeSet object. We use the arbitrary features defined above and L2- similarity to define the similarity in this feature space."
   ]
  },
  {
   "cell_type": "code",
   "execution_count": 10,
   "metadata": {},
   "outputs": [],
   "source": [
    "from aimsim.chemical_datastructures import MoleculeSet\n",
    "\n",
    "\n",
    "# load a MoleculeSet from the file\n",
    "molecule_set = MoleculeSet(molecule_database_src=dataset_file,\n",
    "                           molecule_database_src_type='excel',\n",
    "                           similarity_measure='l2_similarity',\n",
    "                           is_verbose=False)\n",
    "\n"
   ]
  },
  {
   "cell_type": "markdown",
   "metadata": {},
   "source": [
    "Now we visualize it using the VisualizeDataset Task. \n",
    "Note that the arguments to the VisualizeDataset constructor are used to edit the plot settings (such as colors and axis labels) as well as the type and parameters of the 2D embedding (here we use PCA to embed the dataset in 2 dimensions). A complete list of the keywords accepted and their default values can be found in the docstring of the constructor in our [documentation page](https://vlachosgroup.github.io/AIMSim/). "
   ]
  },
  {
   "cell_type": "code",
   "execution_count": 11,
   "metadata": {},
   "outputs": [
    {
     "data": {
      "image/png": "[encoded data removed]",
      "text/plain": [
       "<Figure size 432x288 with 2 Axes>"
      ]
     },
     "metadata": {
      "needs_background": "light"
     },
     "output_type": "display_data"
    },
    {
     "data": {
      "image/png": "[encoded data removed]",
      "text/plain": [
       "<Figure size 432x288 with 1 Axes>"
      ]
     },
     "metadata": {
      "needs_background": "light"
     },
     "output_type": "display_data"
    },
    {
     "data": {
      "application/vnd.plotly.v1+json": {
       "config": {
        "plotlyServerURL": "https://plot.ly"
       },
       "data": [
        {
         "hovertemplate": "<b>%{text}</b><br><br>",
         "marker": {
          "color": "red",
          "line": {
           "width": 0
          },
          "size": 20,
          "symbol": "circle"
         },
         "mode": "markers",
         "name": "molecule",
         "opacity": 0.7,
         "text": [
          "id: 0",
          "id: 1",
          "id: 2",
          "id: 3",
          "id: 4",
          "id: 5",
          "id: 6",
          "id: 7",
          "id: 8",
          "id: 9",
          "id: 10",
          "id: 11",
          "id: 12",
          "id: 13",
          "id: 14",
          "id: 15",
          "id: 16",
          "id: 17",
          "id: 18",
          "id: 19",
          "id: 20",
          "id: 21",
          "id: 22",
          "id: 23",
          "id: 24",
          "id: 25",
          "id: 26",
          "id: 27",
          "id: 28",
          "id: 29",
          "id: 30",
          "id: 31",
          "id: 32",
          "id: 33",
          "id: 34",
          "id: 35",
          "id: 36",
          "id: 37",
          "id: 38",
          "id: 39",
          "id: 40",
          "id: 41",
          "id: 42",
          "id: 43",
          "id: 44",
          "id: 45",
          "id: 46",
          "id: 47",
          "id: 48",
          "id: 49",
          "id: 50",
          "id: 51",
          "id: 52",
          "id: 53",
          "id: 54",
          "id: 55",
          "id: 56",
          "id: 57",
          "id: 58",
          "id: 59",
          "id: 60",
          "id: 61",
          "id: 62",
          "id: 63",
          "id: 64",
          "id: 65",
          "id: 66",
          "id: 67",
          "id: 68",
          "id: 69",
          "id: 70",
          "id: 71",
          "id: 72",
          "id: 73",
          "id: 74",
          "id: 75",
          "id: 76",
          "id: 77",
          "id: 78",
          "id: 79",
          "id: 80",
          "id: 81",
          "id: 82",
          "id: 83",
          "id: 84",
          "id: 85",
          "id: 86",
          "id: 87",
          "id: 88",
          "id: 89",
          "id: 90",
          "id: 91",
          "id: 92",
          "id: 93",
          "id: 94",
          "id: 95",
          "id: 96",
          "id: 97",
          "id: 98",
          "id: 99"
         ],
         "type": "scatter",
         "x": [
          2.0522343035271393,
          -0.7517111927223082,
          -0.17837595738476666,
          -0.9762600823255162,
          -1.2656538025029973,
          -1.0070948554960617,
          1.2171510918001254,
          -0.7465008834954081,
          0.9414635394595322,
          -1.140836094557604,
          0.489637284774293,
          1.0967521555295663,
          -0.6667021917015173,
          0.9614708014390637,
          -0.32869444793052716,
          1.2517287725903103,
          1.107185677642862,
          -0.14443941825295809,
          -0.7598977568320661,
          0.5069108061224046,
          2.451407520755747,
          -2.0471628857259403,
          1.4895652467920257,
          -0.9798373552133747,
          -1.9525611459354482,
          0.9137985465064096,
          -0.5774535198673669,
          -0.7821343867914153,
          -1.8945589179959492,
          0.23199385180845258,
          -1.672265361757412,
          0.400995048261256,
          -0.8529950165850991,
          -1.2787503021161544,
          0.07426287456791121,
          -0.11456830645463173,
          0.56714995908658,
          -0.28222302993615495,
          0.9836023026756582,
          -2.081156491264764,
          -2.1814006261896637,
          0.28580507774650277,
          0.059108989881631165,
          -1.3632702324016819,
          0.263968342574999,
          0.9744377434677891,
          -1.1271574814450787,
          0.02715522929362566,
          -0.4039007239905623,
          1.1668815543625948,
          -0.006549840269077135,
          1.914114084014839,
          2.1365390615249242,
          -0.5125125537370371,
          -0.4152936256050145,
          -0.6805971089404972,
          -0.21013113771377342,
          -0.29799276050463863,
          0.11197413782921638,
          -1.0466001781447174,
          -0.3219275430811109,
          1.1083184936521784,
          1.1164463263922944,
          -0.61234965724734,
          -0.7155564629159288,
          0.898951579420749,
          -0.5284118653094584,
          0.2642178449126913,
          -0.6420267738972668,
          -0.7884251034041552,
          0.1524435086120049,
          1.3106906741196842,
          -0.5334353376720489,
          -0.0018498224554941466,
          0.13359151390071436,
          -1.5182676256062537,
          0.2777045880305574,
          -0.30733534070821716,
          0.7499696334519343,
          1.289570991039644,
          -1.7976996964291954,
          -1.5973412599003713,
          1.1910821081093115,
          -0.4707108235489795,
          0.7647715131543927,
          -0.611844887131214,
          1.9284636390271377,
          -0.7999668436423971,
          0.7863211255215247,
          -0.9384960911059486,
          1.7191804742315888,
          -0.22298784253279313,
          0.9951654087578209,
          1.6554595227124245,
          0.1377120908424085,
          0.6296847793550169,
          2.051854589226835,
          2.0060758853967133,
          -1.494838543147144,
          -0.21425910238058907
         ],
         "y": [
          -0.5717636373273437,
          -0.8322527626818689,
          -0.09849688991953315,
          1.203562851767897,
          -0.13286430540026228,
          0.5022253159932265,
          -0.5641309623200433,
          0.3345091510161867,
          -1.3585972582608203,
          -1.40809324417241,
          1.722229360841385,
          -0.5467281399000306,
          -1.2326543846233704,
          0.6512132996091673,
          -1.3665593041569504,
          2.453186087131724,
          -1.1101508331018655,
          0.04701382144486892,
          -0.05706296758773681,
          -1.4262331738669767,
          0.39810654569211507,
          -0.5417834380423381,
          0.9952836330937979,
          -1.45050947151891,
          1.018716534821395,
          2.413160607627156,
          1.691309602443931,
          -1.1177671519693562,
          0.7476928395005865,
          -0.5266037441459702,
          -0.6156628418476516,
          -1.5249609182158328,
          1.2393435696139967,
          -0.5454452661400093,
          -0.9961422171204787,
          -0.41301679029221294,
          1.0643006532372838,
          -0.08078624591451557,
          -0.39406660054586096,
          0.3135560794230417,
          -0.3605676823419366,
          -0.692512589136348,
          -0.25601537254488876,
          -0.5335030182356213,
          1.3395071522673627,
          -0.37261462978712573,
          1.117483624609335,
          -0.7708641676488243,
          -0.6845928499488051,
          -0.6016850428797461,
          -1.0865844303795253,
          -0.6329806876298357,
          0.6970622970878484,
          -0.17696341504179983,
          0.33208643711123575,
          0.999916070915826,
          -1.128031924817356,
          0.055620208706471615,
          -0.23736019971278183,
          -1.297745352396896,
          -1.1249425670911497,
          0.18579391120921515,
          0.8122699562358167,
          0.8454621269409032,
          0.404353421094482,
          0.5209302734653245,
          0.7319139984358344,
          1.9282348567164433,
          1.1973464286836477,
          0.33893931494977697,
          -0.9842341303915129,
          -0.023413689761793012,
          2.254549518993961,
          -0.20820000717303191,
          -1.5973993764480292,
          -1.2311415312568645,
          0.02485254690514383,
          -0.5958540654023293,
          1.0768965156413326,
          1.0593953718192786,
          -0.6704251491651178,
          0.9382711249627794,
          -0.3858269540343366,
          -1.635578021474643,
          -0.4307412987311706,
          1.1770190201564257,
          -0.42116179697889844,
          -0.8186495808852784,
          0.6262865715955778,
          1.5195649101324908,
          0.5299985881863778,
          1.036665856691592,
          -0.4138178952847965,
          -0.8512628606157535,
          -0.98468843621074,
          0.08257034761466907,
          -0.30423206090627214,
          -0.5953911104262084,
          1.327563255120805,
          1.0653507843040504
         ]
        }
       ],
       "layout": {
        "font": {
         "family": "Courier New, monospace",
         "size": 40
        },
        "template": {
         "data": {
          "bar": [
           {
            "error_x": {
             "color": "#2a3f5f"
            },
            "error_y": {
             "color": "#2a3f5f"
            },
            "marker": {
             "line": {
              "color": "#E5ECF6",
              "width": 0.5
             },
             "pattern": {
              "fillmode": "overlay",
              "size": 10,
              "solidity": 0.2
             }
            },
            "type": "bar"
           }
          ],
          "barpolar": [
           {
            "marker": {
             "line": {
              "color": "#E5ECF6",
              "width": 0.5
             },
             "pattern": {
              "fillmode": "overlay",
              "size": 10,
              "solidity": 0.2
             }
            },
            "type": "barpolar"
           }
          ],
          "carpet": [
           {
            "aaxis": {
             "endlinecolor": "#2a3f5f",
             "gridcolor": "white",
             "linecolor": "white",
             "minorgridcolor": "white",
             "startlinecolor": "#2a3f5f"
            },
            "baxis": {
             "endlinecolor": "#2a3f5f",
             "gridcolor": "white",
             "linecolor": "white",
             "minorgridcolor": "white",
             "startlinecolor": "#2a3f5f"
            },
            "type": "carpet"
           }
          ],
          "choropleth": [
           {
            "colorbar": {
             "outlinewidth": 0,
             "ticks": ""
            },
            "type": "choropleth"
           }
          ],
          "contour": [
           {
            "colorbar": {
             "outlinewidth": 0,
             "ticks": ""
            },
            "colorscale": [
             [
              0,
              "#0d0887"
             ],
             [
              0.1111111111111111,
              "#46039f"
             ],
             [
              0.2222222222222222,
              "#7201a8"
             ],
             [
              0.3333333333333333,
              "#9c179e"
             ],
             [
              0.4444444444444444,
              "#bd3786"
             ],
             [
              0.5555555555555556,
              "#d8576b"
             ],
             [
              0.6666666666666666,
              "#ed7953"
             ],
             [
              0.7777777777777778,
              "#fb9f3a"
             ],
             [
              0.8888888888888888,
              "#fdca26"
             ],
             [
              1,
              "#f0f921"
             ]
            ],
            "type": "contour"
           }
          ],
          "contourcarpet": [
           {
            "colorbar": {
             "outlinewidth": 0,
             "ticks": ""
            },
            "type": "contourcarpet"
           }
          ],
          "heatmap": [
           {
            "colorbar": {
             "outlinewidth": 0,
             "ticks": ""
            },
            "colorscale": [
             [
              0,
              "#0d0887"
             ],
             [
              0.1111111111111111,
              "#46039f"
             ],
             [
              0.2222222222222222,
              "#7201a8"
             ],
             [
              0.3333333333333333,
              "#9c179e"
             ],
             [
              0.4444444444444444,
              "#bd3786"
             ],
             [
              0.5555555555555556,
              "#d8576b"
             ],
             [
              0.6666666666666666,
              "#ed7953"
             ],
             [
              0.7777777777777778,
              "#fb9f3a"
             ],
             [
              0.8888888888888888,
              "#fdca26"
             ],
             [
              1,
              "#f0f921"
             ]
            ],
            "type": "heatmap"
           }
          ],
          "heatmapgl": [
           {
            "colorbar": {
             "outlinewidth": 0,
             "ticks": ""
            },
            "colorscale": [
             [
              0,
              "#0d0887"
             ],
             [
              0.1111111111111111,
              "#46039f"
             ],
             [
              0.2222222222222222,
              "#7201a8"
             ],
             [
              0.3333333333333333,
              "#9c179e"
             ],
             [
              0.4444444444444444,
              "#bd3786"
             ],
             [
              0.5555555555555556,
              "#d8576b"
             ],
             [
              0.6666666666666666,
              "#ed7953"
             ],
             [
              0.7777777777777778,
              "#fb9f3a"
             ],
             [
              0.8888888888888888,
              "#fdca26"
             ],
             [
              1,
              "#f0f921"
             ]
            ],
            "type": "heatmapgl"
           }
          ],
          "histogram": [
           {
            "marker": {
             "pattern": {
              "fillmode": "overlay",
              "size": 10,
              "solidity": 0.2
             }
            },
            "type": "histogram"
           }
          ],
          "histogram2d": [
           {
            "colorbar": {
             "outlinewidth": 0,
             "ticks": ""
            },
            "colorscale": [
             [
              0,
              "#0d0887"
             ],
             [
              0.1111111111111111,
              "#46039f"
             ],
             [
              0.2222222222222222,
              "#7201a8"
             ],
             [
              0.3333333333333333,
              "#9c179e"
             ],
             [
              0.4444444444444444,
              "#bd3786"
             ],
             [
              0.5555555555555556,
              "#d8576b"
             ],
             [
              0.6666666666666666,
              "#ed7953"
             ],
             [
              0.7777777777777778,
              "#fb9f3a"
             ],
             [
              0.8888888888888888,
              "#fdca26"
             ],
             [
              1,
              "#f0f921"
             ]
            ],
            "type": "histogram2d"
           }
          ],
          "histogram2dcontour": [
           {
            "colorbar": {
             "outlinewidth": 0,
             "ticks": ""
            },
            "colorscale": [
             [
              0,
              "#0d0887"
             ],
             [
              0.1111111111111111,
              "#46039f"
             ],
             [
              0.2222222222222222,
              "#7201a8"
             ],
             [
              0.3333333333333333,
              "#9c179e"
             ],
             [
              0.4444444444444444,
              "#bd3786"
             ],
             [
              0.5555555555555556,
              "#d8576b"
             ],
             [
              0.6666666666666666,
              "#ed7953"
             ],
             [
              0.7777777777777778,
              "#fb9f3a"
             ],
             [
              0.8888888888888888,
              "#fdca26"
             ],
             [
              1,
              "#f0f921"
             ]
            ],
            "type": "histogram2dcontour"
           }
          ],
          "mesh3d": [
           {
            "colorbar": {
             "outlinewidth": 0,
             "ticks": ""
            },
            "type": "mesh3d"
           }
          ],
          "parcoords": [
           {
            "line": {
             "colorbar": {
              "outlinewidth": 0,
              "ticks": ""
             }
            },
            "type": "parcoords"
           }
          ],
          "pie": [
           {
            "automargin": true,
            "type": "pie"
           }
          ],
          "scatter": [
           {
            "fillpattern": {
             "fillmode": "overlay",
             "size": 10,
             "solidity": 0.2
            },
            "type": "scatter"
           }
          ],
          "scatter3d": [
           {
            "line": {
             "colorbar": {
              "outlinewidth": 0,
              "ticks": ""
             }
            },
            "marker": {
             "colorbar": {
              "outlinewidth": 0,
              "ticks": ""
             }
            },
            "type": "scatter3d"
           }
          ],
          "scattercarpet": [
           {
            "marker": {
             "colorbar": {
              "outlinewidth": 0,
              "ticks": ""
             }
            },
            "type": "scattercarpet"
           }
          ],
          "scattergeo": [
           {
            "marker": {
             "colorbar": {
              "outlinewidth": 0,
              "ticks": ""
             }
            },
            "type": "scattergeo"
           }
          ],
          "scattergl": [
           {
            "marker": {
             "colorbar": {
              "outlinewidth": 0,
              "ticks": ""
             }
            },
            "type": "scattergl"
           }
          ],
          "scattermapbox": [
           {
            "marker": {
             "colorbar": {
              "outlinewidth": 0,
              "ticks": ""
             }
            },
            "type": "scattermapbox"
           }
          ],
          "scatterpolar": [
           {
            "marker": {
             "colorbar": {
              "outlinewidth": 0,
              "ticks": ""
             }
            },
            "type": "scatterpolar"
           }
          ],
          "scatterpolargl": [
           {
            "marker": {
             "colorbar": {
              "outlinewidth": 0,
              "ticks": ""
             }
            },
            "type": "scatterpolargl"
           }
          ],
          "scatterternary": [
           {
            "marker": {
             "colorbar": {
              "outlinewidth": 0,
              "ticks": ""
             }
            },
            "type": "scatterternary"
           }
          ],
          "surface": [
           {
            "colorbar": {
             "outlinewidth": 0,
             "ticks": ""
            },
            "colorscale": [
             [
              0,
              "#0d0887"
             ],
             [
              0.1111111111111111,
              "#46039f"
             ],
             [
              0.2222222222222222,
              "#7201a8"
             ],
             [
              0.3333333333333333,
              "#9c179e"
             ],
             [
              0.4444444444444444,
              "#bd3786"
             ],
             [
              0.5555555555555556,
              "#d8576b"
             ],
             [
              0.6666666666666666,
              "#ed7953"
             ],
             [
              0.7777777777777778,
              "#fb9f3a"
             ],
             [
              0.8888888888888888,
              "#fdca26"
             ],
             [
              1,
              "#f0f921"
             ]
            ],
            "type": "surface"
           }
          ],
          "table": [
           {
            "cells": {
             "fill": {
              "color": "#EBF0F8"
             },
             "line": {
              "color": "white"
             }
            },
            "header": {
             "fill": {
              "color": "#C8D4E3"
             },
             "line": {
              "color": "white"
             }
            },
            "type": "table"
           }
          ]
         },
         "layout": {
          "annotationdefaults": {
           "arrowcolor": "#2a3f5f",
           "arrowhead": 0,
           "arrowwidth": 1
          },
          "autotypenumbers": "strict",
          "coloraxis": {
           "colorbar": {
            "outlinewidth": 0,
            "ticks": ""
           }
          },
          "colorscale": {
           "diverging": [
            [
             0,
             "#8e0152"
            ],
            [
             0.1,
             "#c51b7d"
            ],
            [
             0.2,
             "#de77ae"
            ],
            [
             0.3,
             "#f1b6da"
            ],
            [
             0.4,
             "#fde0ef"
            ],
            [
             0.5,
             "#f7f7f7"
            ],
            [
             0.6,
             "#e6f5d0"
            ],
            [
             0.7,
             "#b8e186"
            ],
            [
             0.8,
             "#7fbc41"
            ],
            [
             0.9,
             "#4d9221"
            ],
            [
             1,
             "#276419"
            ]
           ],
           "sequential": [
            [
             0,
             "#0d0887"
            ],
            [
             0.1111111111111111,
             "#46039f"
            ],
            [
             0.2222222222222222,
             "#7201a8"
            ],
            [
             0.3333333333333333,
             "#9c179e"
            ],
            [
             0.4444444444444444,
             "#bd3786"
            ],
            [
             0.5555555555555556,
             "#d8576b"
            ],
            [
             0.6666666666666666,
             "#ed7953"
            ],
            [
             0.7777777777777778,
             "#fb9f3a"
            ],
            [
             0.8888888888888888,
             "#fdca26"
            ],
            [
             1,
             "#f0f921"
            ]
           ],
           "sequentialminus": [
            [
             0,
             "#0d0887"
            ],
            [
             0.1111111111111111,
             "#46039f"
            ],
            [
             0.2222222222222222,
             "#7201a8"
            ],
            [
             0.3333333333333333,
             "#9c179e"
            ],
            [
             0.4444444444444444,
             "#bd3786"
            ],
            [
             0.5555555555555556,
             "#d8576b"
            ],
            [
             0.6666666666666666,
             "#ed7953"
            ],
            [
             0.7777777777777778,
             "#fb9f3a"
            ],
            [
             0.8888888888888888,
             "#fdca26"
            ],
            [
             1,
             "#f0f921"
            ]
           ]
          },
          "colorway": [
           "#636efa",
           "#EF553B",
           "#00cc96",
           "#ab63fa",
           "#FFA15A",
           "#19d3f3",
           "#FF6692",
           "#B6E880",
           "#FF97FF",
           "#FECB52"
          ],
          "font": {
           "color": "#2a3f5f"
          },
          "geo": {
           "bgcolor": "white",
           "lakecolor": "white",
           "landcolor": "#E5ECF6",
           "showlakes": true,
           "showland": true,
           "subunitcolor": "white"
          },
          "hoverlabel": {
           "align": "left"
          },
          "hovermode": "closest",
          "mapbox": {
           "style": "light"
          },
          "paper_bgcolor": "white",
          "plot_bgcolor": "#E5ECF6",
          "polar": {
           "angularaxis": {
            "gridcolor": "white",
            "linecolor": "white",
            "ticks": ""
           },
           "bgcolor": "#E5ECF6",
           "radialaxis": {
            "gridcolor": "white",
            "linecolor": "white",
            "ticks": ""
           }
          },
          "scene": {
           "xaxis": {
            "backgroundcolor": "#E5ECF6",
            "gridcolor": "white",
            "gridwidth": 2,
            "linecolor": "white",
            "showbackground": true,
            "ticks": "",
            "zerolinecolor": "white"
           },
           "yaxis": {
            "backgroundcolor": "#E5ECF6",
            "gridcolor": "white",
            "gridwidth": 2,
            "linecolor": "white",
            "showbackground": true,
            "ticks": "",
            "zerolinecolor": "white"
           },
           "zaxis": {
            "backgroundcolor": "#E5ECF6",
            "gridcolor": "white",
            "gridwidth": 2,
            "linecolor": "white",
            "showbackground": true,
            "ticks": "",
            "zerolinecolor": "white"
           }
          },
          "shapedefaults": {
           "line": {
            "color": "#2a3f5f"
           }
          },
          "ternary": {
           "aaxis": {
            "gridcolor": "white",
            "linecolor": "white",
            "ticks": ""
           },
           "baxis": {
            "gridcolor": "white",
            "linecolor": "white",
            "ticks": ""
           },
           "bgcolor": "#E5ECF6",
           "caxis": {
            "gridcolor": "white",
            "linecolor": "white",
            "ticks": ""
           }
          },
          "title": {
           "x": 0.05
          },
          "xaxis": {
           "automargin": true,
           "gridcolor": "white",
           "linecolor": "white",
           "ticks": "",
           "title": {
            "standoff": 15
           },
           "zerolinecolor": "white",
           "zerolinewidth": 2
          },
          "yaxis": {
           "automargin": true,
           "gridcolor": "white",
           "linecolor": "white",
           "ticks": "",
           "title": {
            "standoff": 15
           },
           "zerolinecolor": "white",
           "zerolinewidth": 2
          }
         }
        },
        "title": {
         "font": {
          "size": 40
         },
         "text": "2-D projected space",
         "x": 0.5,
         "xanchor": "center",
         "y": 0.9,
         "yanchor": "top"
        },
        "xaxis": {
         "title": {
          "text": "Dimension 1"
         }
        },
        "yaxis": {
         "title": {
          "text": "Dimension 2"
         }
        }
       }
      },
      "text/html": [
       "<div>                            <div id=\"1d0624e3-8fb9-4b87-92b5-108ccff4e724\" class=\"plotly-graph-div\" style=\"height:525px; width:100%;\"></div>            <script type=\"text/javascript\">                require([\"plotly\"], function(Plotly) {                    window.PLOTLYENV=window.PLOTLYENV || {};                                    if (document.getElementById(\"1d0624e3-8fb9-4b87-92b5-108ccff4e724\")) {                    Plotly.newPlot(                        \"1d0624e3-8fb9-4b87-92b5-108ccff4e724\",                        [{\"marker\":{\"color\":\"red\",\"line\":{\"width\":0},\"size\":20,\"symbol\":\"circle\"},\"mode\":\"markers\",\"name\":\"molecule\",\"opacity\":0.7,\"text\":[\"id: 0\",\"id: 1\",\"id: 2\",\"id: 3\",\"id: 4\",\"id: 5\",\"id: 6\",\"id: 7\",\"id: 8\",\"id: 9\",\"id: 10\",\"id: 11\",\"id: 12\",\"id: 13\",\"id: 14\",\"id: 15\",\"id: 16\",\"id: 17\",\"id: 18\",\"id: 19\",\"id: 20\",\"id: 21\",\"id: 22\",\"id: 23\",\"id: 24\",\"id: 25\",\"id: 26\",\"id: 27\",\"id: 28\",\"id: 29\",\"id: 30\",\"id: 31\",\"id: 32\",\"id: 33\",\"id: 34\",\"id: 35\",\"id: 36\",\"id: 37\",\"id: 38\",\"id: 39\",\"id: 40\",\"id: 41\",\"id: 42\",\"id: 43\",\"id: 44\",\"id: 45\",\"id: 46\",\"id: 47\",\"id: 48\",\"id: 49\",\"id: 50\",\"id: 51\",\"id: 52\",\"id: 53\",\"id: 54\",\"id: 55\",\"id: 56\",\"id: 57\",\"id: 58\",\"id: 59\",\"id: 60\",\"id: 61\",\"id: 62\",\"id: 63\",\"id: 64\",\"id: 65\",\"id: 66\",\"id: 67\",\"id: 68\",\"id: 69\",\"id: 70\",\"id: 71\",\"id: 72\",\"id: 73\",\"id: 74\",\"id: 75\",\"id: 76\",\"id: 77\",\"id: 78\",\"id: 79\",\"id: 80\",\"id: 81\",\"id: 82\",\"id: 83\",\"id: 84\",\"id: 85\",\"id: 86\",\"id: 87\",\"id: 88\",\"id: 89\",\"id: 90\",\"id: 91\",\"id: 92\",\"id: 93\",\"id: 94\",\"id: 95\",\"id: 96\",\"id: 97\",\"id: 98\",\"id: 99\"],\"x\":[2.0522343035271393,-0.7517111927223082,-0.17837595738476666,-0.9762600823255162,-1.2656538025029973,-1.0070948554960617,1.2171510918001254,-0.7465008834954081,0.9414635394595322,-1.140836094557604,0.489637284774293,1.0967521555295663,-0.6667021917015173,0.9614708014390637,-0.32869444793052716,1.2517287725903103,1.107185677642862,-0.14443941825295809,-0.7598977568320661,0.5069108061224046,2.451407520755747,-2.0471628857259403,1.4895652467920257,-0.9798373552133747,-1.9525611459354482,0.9137985465064096,-0.5774535198673669,-0.7821343867914153,-1.8945589179959492,0.23199385180845258,-1.672265361757412,0.400995048261256,-0.8529950165850991,-1.2787503021161544,0.07426287456791121,-0.11456830645463173,0.56714995908658,-0.28222302993615495,0.9836023026756582,-2.081156491264764,-2.1814006261896637,0.28580507774650277,0.059108989881631165,-1.3632702324016819,0.263968342574999,0.9744377434677891,-1.1271574814450787,0.02715522929362566,-0.4039007239905623,1.1668815543625948,-0.006549840269077135,1.914114084014839,2.1365390615249242,-0.5125125537370371,-0.4152936256050145,-0.6805971089404972,-0.21013113771377342,-0.29799276050463863,0.11197413782921638,-1.0466001781447174,-0.3219275430811109,1.1083184936521784,1.1164463263922944,-0.61234965724734,-0.7155564629159288,0.898951579420749,-0.5284118653094584,0.2642178449126913,-0.6420267738972668,-0.7884251034041552,0.1524435086120049,1.3106906741196842,-0.5334353376720489,-0.0018498224554941466,0.13359151390071436,-1.5182676256062537,0.2777045880305574,-0.30733534070821716,0.7499696334519343,1.289570991039644,-1.7976996964291954,-1.5973412599003713,1.1910821081093115,-0.4707108235489795,0.7647715131543927,-0.611844887131214,1.9284636390271377,-0.7999668436423971,0.7863211255215247,-0.9384960911059486,1.7191804742315888,-0.22298784253279313,0.9951654087578209,1.6554595227124245,0.1377120908424085,0.6296847793550169,2.051854589226835,2.0060758853967133,-1.494838543147144,-0.21425910238058907],\"y\":[-0.5717636373273437,-0.8322527626818689,-0.09849688991953315,1.203562851767897,-0.13286430540026228,0.5022253159932265,-0.5641309623200433,0.3345091510161867,-1.3585972582608203,-1.40809324417241,1.722229360841385,-0.5467281399000306,-1.2326543846233704,0.6512132996091673,-1.3665593041569504,2.453186087131724,-1.1101508331018655,0.04701382144486892,-0.05706296758773681,-1.4262331738669767,0.39810654569211507,-0.5417834380423381,0.9952836330937979,-1.45050947151891,1.018716534821395,2.413160607627156,1.691309602443931,-1.1177671519693562,0.7476928395005865,-0.5266037441459702,-0.6156628418476516,-1.5249609182158328,1.2393435696139967,-0.5454452661400093,-0.9961422171204787,-0.41301679029221294,1.0643006532372838,-0.08078624591451557,-0.39406660054586096,0.3135560794230417,-0.3605676823419366,-0.692512589136348,-0.25601537254488876,-0.5335030182356213,1.3395071522673627,-0.37261462978712573,1.117483624609335,-0.7708641676488243,-0.6845928499488051,-0.6016850428797461,-1.0865844303795253,-0.6329806876298357,0.6970622970878484,-0.17696341504179983,0.33208643711123575,0.999916070915826,-1.128031924817356,0.055620208706471615,-0.23736019971278183,-1.297745352396896,-1.1249425670911497,0.18579391120921515,0.8122699562358167,0.8454621269409032,0.404353421094482,0.5209302734653245,0.7319139984358344,1.9282348567164433,1.1973464286836477,0.33893931494977697,-0.9842341303915129,-0.023413689761793012,2.254549518993961,-0.20820000717303191,-1.5973993764480292,-1.2311415312568645,0.02485254690514383,-0.5958540654023293,1.0768965156413326,1.0593953718192786,-0.6704251491651178,0.9382711249627794,-0.3858269540343366,-1.635578021474643,-0.4307412987311706,1.1770190201564257,-0.42116179697889844,-0.8186495808852784,0.6262865715955778,1.5195649101324908,0.5299985881863778,1.036665856691592,-0.4138178952847965,-0.8512628606157535,-0.98468843621074,0.08257034761466907,-0.30423206090627214,-0.5953911104262084,1.327563255120805,1.0653507843040504],\"type\":\"scatter\",\"hovertemplate\":\"<b>%{text}</b><br><br>\"}],                        {\"template\":{\"data\":{\"histogram2dcontour\":[{\"type\":\"histogram2dcontour\",\"colorbar\":{\"outlinewidth\":0,\"ticks\":\"\"},\"colorscale\":[[0.0,\"#0d0887\"],[0.1111111111111111,\"#46039f\"],[0.2222222222222222,\"#7201a8\"],[0.3333333333333333,\"#9c179e\"],[0.4444444444444444,\"#bd3786\"],[0.5555555555555556,\"#d8576b\"],[0.6666666666666666,\"#ed7953\"],[0.7777777777777778,\"#fb9f3a\"],[0.8888888888888888,\"#fdca26\"],[1.0,\"#f0f921\"]]}],\"choropleth\":[{\"type\":\"choropleth\",\"colorbar\":{\"outlinewidth\":0,\"ticks\":\"\"}}],\"histogram2d\":[{\"type\":\"histogram2d\",\"colorbar\":{\"outlinewidth\":0,\"ticks\":\"\"},\"colorscale\":[[0.0,\"#0d0887\"],[0.1111111111111111,\"#46039f\"],[0.2222222222222222,\"#7201a8\"],[0.3333333333333333,\"#9c179e\"],[0.4444444444444444,\"#bd3786\"],[0.5555555555555556,\"#d8576b\"],[0.6666666666666666,\"#ed7953\"],[0.7777777777777778,\"#fb9f3a\"],[0.8888888888888888,\"#fdca26\"],[1.0,\"#f0f921\"]]}],\"heatmap\":[{\"type\":\"heatmap\",\"colorbar\":{\"outlinewidth\":0,\"ticks\":\"\"},\"colorscale\":[[0.0,\"#0d0887\"],[0.1111111111111111,\"#46039f\"],[0.2222222222222222,\"#7201a8\"],[0.3333333333333333,\"#9c179e\"],[0.4444444444444444,\"#bd3786\"],[0.5555555555555556,\"#d8576b\"],[0.6666666666666666,\"#ed7953\"],[0.7777777777777778,\"#fb9f3a\"],[0.8888888888888888,\"#fdca26\"],[1.0,\"#f0f921\"]]}],\"heatmapgl\":[{\"type\":\"heatmapgl\",\"colorbar\":{\"outlinewidth\":0,\"ticks\":\"\"},\"colorscale\":[[0.0,\"#0d0887\"],[0.1111111111111111,\"#46039f\"],[0.2222222222222222,\"#7201a8\"],[0.3333333333333333,\"#9c179e\"],[0.4444444444444444,\"#bd3786\"],[0.5555555555555556,\"#d8576b\"],[0.6666666666666666,\"#ed7953\"],[0.7777777777777778,\"#fb9f3a\"],[0.8888888888888888,\"#fdca26\"],[1.0,\"#f0f921\"]]}],\"contourcarpet\":[{\"type\":\"contourcarpet\",\"colorbar\":{\"outlinewidth\":0,\"ticks\":\"\"}}],\"contour\":[{\"type\":\"contour\",\"colorbar\":{\"outlinewidth\":0,\"ticks\":\"\"},\"colorscale\":[[0.0,\"#0d0887\"],[0.1111111111111111,\"#46039f\"],[0.2222222222222222,\"#7201a8\"],[0.3333333333333333,\"#9c179e\"],[0.4444444444444444,\"#bd3786\"],[0.5555555555555556,\"#d8576b\"],[0.6666666666666666,\"#ed7953\"],[0.7777777777777778,\"#fb9f3a\"],[0.8888888888888888,\"#fdca26\"],[1.0,\"#f0f921\"]]}],\"surface\":[{\"type\":\"surface\",\"colorbar\":{\"outlinewidth\":0,\"ticks\":\"\"},\"colorscale\":[[0.0,\"#0d0887\"],[0.1111111111111111,\"#46039f\"],[0.2222222222222222,\"#7201a8\"],[0.3333333333333333,\"#9c179e\"],[0.4444444444444444,\"#bd3786\"],[0.5555555555555556,\"#d8576b\"],[0.6666666666666666,\"#ed7953\"],[0.7777777777777778,\"#fb9f3a\"],[0.8888888888888888,\"#fdca26\"],[1.0,\"#f0f921\"]]}],\"mesh3d\":[{\"type\":\"mesh3d\",\"colorbar\":{\"outlinewidth\":0,\"ticks\":\"\"}}],\"scatter\":[{\"fillpattern\":{\"fillmode\":\"overlay\",\"size\":10,\"solidity\":0.2},\"type\":\"scatter\"}],\"parcoords\":[{\"type\":\"parcoords\",\"line\":{\"colorbar\":{\"outlinewidth\":0,\"ticks\":\"\"}}}],\"scatterpolargl\":[{\"type\":\"scatterpolargl\",\"marker\":{\"colorbar\":{\"outlinewidth\":0,\"ticks\":\"\"}}}],\"bar\":[{\"error_x\":{\"color\":\"#2a3f5f\"},\"error_y\":{\"color\":\"#2a3f5f\"},\"marker\":{\"line\":{\"color\":\"#E5ECF6\",\"width\":0.5},\"pattern\":{\"fillmode\":\"overlay\",\"size\":10,\"solidity\":0.2}},\"type\":\"bar\"}],\"scattergeo\":[{\"type\":\"scattergeo\",\"marker\":{\"colorbar\":{\"outlinewidth\":0,\"ticks\":\"\"}}}],\"scatterpolar\":[{\"type\":\"scatterpolar\",\"marker\":{\"colorbar\":{\"outlinewidth\":0,\"ticks\":\"\"}}}],\"histogram\":[{\"marker\":{\"pattern\":{\"fillmode\":\"overlay\",\"size\":10,\"solidity\":0.2}},\"type\":\"histogram\"}],\"scattergl\":[{\"type\":\"scattergl\",\"marker\":{\"colorbar\":{\"outlinewidth\":0,\"ticks\":\"\"}}}],\"scatter3d\":[{\"type\":\"scatter3d\",\"line\":{\"colorbar\":{\"outlinewidth\":0,\"ticks\":\"\"}},\"marker\":{\"colorbar\":{\"outlinewidth\":0,\"ticks\":\"\"}}}],\"scattermapbox\":[{\"type\":\"scattermapbox\",\"marker\":{\"colorbar\":{\"outlinewidth\":0,\"ticks\":\"\"}}}],\"scatterternary\":[{\"type\":\"scatterternary\",\"marker\":{\"colorbar\":{\"outlinewidth\":0,\"ticks\":\"\"}}}],\"scattercarpet\":[{\"type\":\"scattercarpet\",\"marker\":{\"colorbar\":{\"outlinewidth\":0,\"ticks\":\"\"}}}],\"carpet\":[{\"aaxis\":{\"endlinecolor\":\"#2a3f5f\",\"gridcolor\":\"white\",\"linecolor\":\"white\",\"minorgridcolor\":\"white\",\"startlinecolor\":\"#2a3f5f\"},\"baxis\":{\"endlinecolor\":\"#2a3f5f\",\"gridcolor\":\"white\",\"linecolor\":\"white\",\"minorgridcolor\":\"white\",\"startlinecolor\":\"#2a3f5f\"},\"type\":\"carpet\"}],\"table\":[{\"cells\":{\"fill\":{\"color\":\"#EBF0F8\"},\"line\":{\"color\":\"white\"}},\"header\":{\"fill\":{\"color\":\"#C8D4E3\"},\"line\":{\"color\":\"white\"}},\"type\":\"table\"}],\"barpolar\":[{\"marker\":{\"line\":{\"color\":\"#E5ECF6\",\"width\":0.5},\"pattern\":{\"fillmode\":\"overlay\",\"size\":10,\"solidity\":0.2}},\"type\":\"barpolar\"}],\"pie\":[{\"automargin\":true,\"type\":\"pie\"}]},\"layout\":{\"autotypenumbers\":\"strict\",\"colorway\":[\"#636efa\",\"#EF553B\",\"#00cc96\",\"#ab63fa\",\"#FFA15A\",\"#19d3f3\",\"#FF6692\",\"#B6E880\",\"#FF97FF\",\"#FECB52\"],\"font\":{\"color\":\"#2a3f5f\"},\"hovermode\":\"closest\",\"hoverlabel\":{\"align\":\"left\"},\"paper_bgcolor\":\"white\",\"plot_bgcolor\":\"#E5ECF6\",\"polar\":{\"bgcolor\":\"#E5ECF6\",\"angularaxis\":{\"gridcolor\":\"white\",\"linecolor\":\"white\",\"ticks\":\"\"},\"radialaxis\":{\"gridcolor\":\"white\",\"linecolor\":\"white\",\"ticks\":\"\"}},\"ternary\":{\"bgcolor\":\"#E5ECF6\",\"aaxis\":{\"gridcolor\":\"white\",\"linecolor\":\"white\",\"ticks\":\"\"},\"baxis\":{\"gridcolor\":\"white\",\"linecolor\":\"white\",\"ticks\":\"\"},\"caxis\":{\"gridcolor\":\"white\",\"linecolor\":\"white\",\"ticks\":\"\"}},\"coloraxis\":{\"colorbar\":{\"outlinewidth\":0,\"ticks\":\"\"}},\"colorscale\":{\"sequential\":[[0.0,\"#0d0887\"],[0.1111111111111111,\"#46039f\"],[0.2222222222222222,\"#7201a8\"],[0.3333333333333333,\"#9c179e\"],[0.4444444444444444,\"#bd3786\"],[0.5555555555555556,\"#d8576b\"],[0.6666666666666666,\"#ed7953\"],[0.7777777777777778,\"#fb9f3a\"],[0.8888888888888888,\"#fdca26\"],[1.0,\"#f0f921\"]],\"sequentialminus\":[[0.0,\"#0d0887\"],[0.1111111111111111,\"#46039f\"],[0.2222222222222222,\"#7201a8\"],[0.3333333333333333,\"#9c179e\"],[0.4444444444444444,\"#bd3786\"],[0.5555555555555556,\"#d8576b\"],[0.6666666666666666,\"#ed7953\"],[0.7777777777777778,\"#fb9f3a\"],[0.8888888888888888,\"#fdca26\"],[1.0,\"#f0f921\"]],\"diverging\":[[0,\"#8e0152\"],[0.1,\"#c51b7d\"],[0.2,\"#de77ae\"],[0.3,\"#f1b6da\"],[0.4,\"#fde0ef\"],[0.5,\"#f7f7f7\"],[0.6,\"#e6f5d0\"],[0.7,\"#b8e186\"],[0.8,\"#7fbc41\"],[0.9,\"#4d9221\"],[1,\"#276419\"]]},\"xaxis\":{\"gridcolor\":\"white\",\"linecolor\":\"white\",\"ticks\":\"\",\"title\":{\"standoff\":15},\"zerolinecolor\":\"white\",\"automargin\":true,\"zerolinewidth\":2},\"yaxis\":{\"gridcolor\":\"white\",\"linecolor\":\"white\",\"ticks\":\"\",\"title\":{\"standoff\":15},\"zerolinecolor\":\"white\",\"automargin\":true,\"zerolinewidth\":2},\"scene\":{\"xaxis\":{\"backgroundcolor\":\"#E5ECF6\",\"gridcolor\":\"white\",\"linecolor\":\"white\",\"showbackground\":true,\"ticks\":\"\",\"zerolinecolor\":\"white\",\"gridwidth\":2},\"yaxis\":{\"backgroundcolor\":\"#E5ECF6\",\"gridcolor\":\"white\",\"linecolor\":\"white\",\"showbackground\":true,\"ticks\":\"\",\"zerolinecolor\":\"white\",\"gridwidth\":2},\"zaxis\":{\"backgroundcolor\":\"#E5ECF6\",\"gridcolor\":\"white\",\"linecolor\":\"white\",\"showbackground\":true,\"ticks\":\"\",\"zerolinecolor\":\"white\",\"gridwidth\":2}},\"shapedefaults\":{\"line\":{\"color\":\"#2a3f5f\"}},\"annotationdefaults\":{\"arrowcolor\":\"#2a3f5f\",\"arrowhead\":0,\"arrowwidth\":1},\"geo\":{\"bgcolor\":\"white\",\"landcolor\":\"#E5ECF6\",\"subunitcolor\":\"white\",\"showland\":true,\"showlakes\":true,\"lakecolor\":\"white\"},\"title\":{\"x\":0.05},\"mapbox\":{\"style\":\"light\"}}},\"font\":{\"family\":\"Courier New, monospace\",\"size\":40},\"xaxis\":{\"title\":{\"text\":\"Dimension 1\"}},\"yaxis\":{\"title\":{\"text\":\"Dimension 2\"}},\"title\":{\"font\":{\"size\":40},\"text\":\"2-D projected space\",\"y\":0.9,\"x\":0.5,\"xanchor\":\"center\",\"yanchor\":\"top\"}},                        {\"responsive\": true}                    ).then(function(){\n",
       "                            \n",
       "var gd = document.getElementById('1d0624e3-8fb9-4b87-92b5-108ccff4e724');\n",
       "var x = new MutationObserver(function (mutations, observer) {{\n",
       "        var display = window.getComputedStyle(gd).display;\n",
       "        if (!display || display === 'none') {{\n",
       "            console.log([gd, 'removed!']);\n",
       "            Plotly.purge(gd);\n",
       "            observer.disconnect();\n",
       "        }}\n",
       "}});\n",
       "\n",
       "// Listen for the removal of the full notebook cells\n",
       "var notebookContainer = gd.closest('#notebook-container');\n",
       "if (notebookContainer) {{\n",
       "    x.observe(notebookContainer, {childList: true});\n",
       "}}\n",
       "\n",
       "// Listen for the clearing of the current output cell\n",
       "var outputEl = gd.closest('.output');\n",
       "if (outputEl) {{\n",
       "    x.observe(outputEl, {childList: true});\n",
       "}}\n",
       "\n",
       "                        })                };                });            </script>        </div>"
      ]
     },
     "metadata": {},
     "output_type": "display_data"
    }
   ],
   "source": [
    "from aimsim.tasks import VisualizeDataset\n",
    "# instantiate the task\n",
    "viz = VisualizeDataset(embedding_plot_settings={\"embedding\": {\"method\": \"pca\"}})\n",
    "viz(molecule_set)"
   ]
  },
  {
   "cell_type": "markdown",
   "metadata": {},
   "source": [
    "### Clustering"
   ]
  },
  {
   "cell_type": "markdown",
   "metadata": {},
   "source": [
    "The dataset can also be clustered using the ClusterData Task in _AIMSim_. The following code snippets clusters the dataset using the K-Medoids algorithm. Note that we reuse the MoleculeSet object, therefore we are still using the L2 similarity for clustering. The data is clustered into 5 clusters and the 2D embedding is again generated using PCA. A complete list of the keywords accepted by the ClusterData constructor and their default values can be found in the docstring of the constructor in our [documentation page](https://vlachosgroup.github.io/AIMSim/). "
   ]
  },
  {
   "cell_type": "code",
   "execution_count": 13,
   "metadata": {},
   "outputs": [
    {
     "data": {
      "image/png": "[encoded data removed]",
      "text/plain": [
       "<Figure size 432x288 with 1 Axes>"
      ]
     },
     "metadata": {
      "needs_background": "light"
     },
     "output_type": "display_data"
    },
    {
     "data": {
      "application/vnd.plotly.v1+json": {
       "config": {
        "plotlyServerURL": "https://plot.ly"
       },
       "data": [
        {
         "hovertemplate": "<b>%{text}</b><br><br>",
         "marker": {
          "color": "#1f77b4",
          "line": {
           "width": 0
          },
          "size": 20,
          "symbol": "circle"
         },
         "mode": "markers",
         "name": "cluster 0",
         "opacity": 0.7,
         "text": [
          "id: 3",
          "id: 7",
          "id: 24",
          "id: 26",
          "id: 46",
          "id: 55",
          "id: 57",
          "id: 63",
          "id: 64",
          "id: 66",
          "id: 68",
          "id: 69",
          "id: 72",
          "id: 81",
          "id: 85",
          "id: 89",
          "id: 91",
          "id: 98"
         ],
         "type": "scatter",
         "x": [
          -0.9762600823255162,
          -0.7465008834954081,
          -1.9525611459354482,
          -0.5774535198673669,
          -1.1271574814450787,
          -0.6805971089404972,
          -0.29799276050463863,
          -0.61234965724734,
          -0.7155564629159288,
          -0.5284118653094584,
          -0.6420267738972668,
          -0.7884251034041552,
          -0.5334353376720489,
          -1.5973412599003713,
          -0.611844887131214,
          -0.9384960911059486,
          -0.22298784253279313,
          -1.494838543147144
         ],
         "y": [
          1.203562851767897,
          0.3345091510161867,
          1.018716534821395,
          1.691309602443931,
          1.117483624609335,
          0.999916070915826,
          0.055620208706471615,
          0.8454621269409032,
          0.404353421094482,
          0.7319139984358344,
          1.1973464286836477,
          0.33893931494977697,
          2.254549518993961,
          0.9382711249627794,
          1.1770190201564257,
          1.5195649101324908,
          1.036665856691592,
          1.327563255120805
         ]
        },
        {
         "hovertemplate": "<b>%{text}</b><br><br>",
         "marker": {
          "color": "#98df8a",
          "line": {
           "width": 0
          },
          "size": 20,
          "symbol": "circle"
         },
         "mode": "markers",
         "name": "cluster 1",
         "opacity": 0.7,
         "text": [
          "id: 10",
          "id: 13",
          "id: 15",
          "id: 22",
          "id: 25",
          "id: 32",
          "id: 36",
          "id: 44",
          "id: 62",
          "id: 67",
          "id: 71",
          "id: 76",
          "id: 78",
          "id: 79",
          "id: 88",
          "id: 99"
         ],
         "type": "scatter",
         "x": [
          0.489637284774293,
          0.9614708014390637,
          1.2517287725903103,
          1.4895652467920257,
          0.9137985465064096,
          -0.8529950165850991,
          0.56714995908658,
          0.263968342574999,
          1.1164463263922944,
          0.2642178449126913,
          1.3106906741196842,
          0.2777045880305574,
          0.7499696334519343,
          1.289570991039644,
          0.7863211255215247,
          -0.21425910238058907
         ],
         "y": [
          1.722229360841385,
          0.6512132996091673,
          2.453186087131724,
          0.9952836330937979,
          2.413160607627156,
          1.2393435696139967,
          1.0643006532372838,
          1.3395071522673627,
          0.8122699562358167,
          1.9282348567164433,
          -0.023413689761793012,
          0.02485254690514383,
          1.0768965156413326,
          1.0593953718192786,
          0.6262865715955778,
          1.0653507843040504
         ]
        },
        {
         "hovertemplate": "<b>%{text}</b><br><br>",
         "marker": {
          "color": "#8c564b",
          "line": {
           "width": 0
          },
          "size": 20,
          "symbol": "circle"
         },
         "mode": "markers",
         "name": "cluster 2",
         "opacity": 0.7,
         "text": [
          "id: 5",
          "id: 9",
          "id: 12",
          "id: 19",
          "id: 21",
          "id: 28",
          "id: 33",
          "id: 34",
          "id: 35",
          "id: 39",
          "id: 40",
          "id: 42",
          "id: 43",
          "id: 47",
          "id: 48",
          "id: 54",
          "id: 74",
          "id: 75"
         ],
         "type": "scatter",
         "x": [
          -1.0070948554960617,
          -1.140836094557604,
          -0.6667021917015173,
          0.5069108061224046,
          -2.0471628857259403,
          -1.8945589179959492,
          -1.2787503021161544,
          0.07426287456791121,
          -0.11456830645463173,
          -2.081156491264764,
          -2.1814006261896637,
          0.059108989881631165,
          -1.3632702324016819,
          0.02715522929362566,
          -0.4039007239905623,
          -0.4152936256050145,
          0.13359151390071436,
          -1.5182676256062537
         ],
         "y": [
          0.5022253159932265,
          -1.40809324417241,
          -1.2326543846233704,
          -1.4262331738669767,
          -0.5417834380423381,
          0.7476928395005865,
          -0.5454452661400093,
          -0.9961422171204787,
          -0.41301679029221294,
          0.3135560794230417,
          -0.3605676823419366,
          -0.25601537254488876,
          -0.5335030182356213,
          -0.7708641676488243,
          -0.6845928499488051,
          0.33208643711123575,
          -1.5973993764480292,
          -1.2311415312568645
         ]
        },
        {
         "hovertemplate": "<b>%{text}</b><br><br>",
         "marker": {
          "color": "#c7c7c7",
          "line": {
           "width": 0
          },
          "size": 20,
          "symbol": "circle"
         },
         "mode": "markers",
         "name": "cluster 3",
         "opacity": 0.7,
         "text": [
          "id: 1",
          "id: 2",
          "id: 4",
          "id: 14",
          "id: 17",
          "id: 18",
          "id: 23",
          "id: 27",
          "id: 30",
          "id: 37",
          "id: 50",
          "id: 53",
          "id: 56",
          "id: 59",
          "id: 60",
          "id: 77",
          "id: 80",
          "id: 83",
          "id: 87",
          "id: 94"
         ],
         "type": "scatter",
         "x": [
          -0.7517111927223082,
          -0.17837595738476666,
          -1.2656538025029973,
          -0.32869444793052716,
          -0.14443941825295809,
          -0.7598977568320661,
          -0.9798373552133747,
          -0.7821343867914153,
          -1.672265361757412,
          -0.28222302993615495,
          -0.006549840269077135,
          -0.5125125537370371,
          -0.21013113771377342,
          -1.0466001781447174,
          -0.3219275430811109,
          -0.30733534070821716,
          -1.7976996964291954,
          -0.4707108235489795,
          -0.7999668436423971,
          0.1377120908424085
         ],
         "y": [
          -0.8322527626818689,
          -0.09849688991953315,
          -0.13286430540026228,
          -1.3665593041569504,
          0.04701382144486892,
          -0.05706296758773681,
          -1.45050947151891,
          -1.1177671519693562,
          -0.6156628418476516,
          -0.08078624591451557,
          -1.0865844303795253,
          -0.17696341504179983,
          -1.128031924817356,
          -1.297745352396896,
          -1.1249425670911497,
          -0.5958540654023293,
          -0.6704251491651178,
          -1.635578021474643,
          -0.8186495808852784,
          -0.98468843621074
         ]
        },
        {
         "hovertemplate": "<b>%{text}</b><br><br>",
         "marker": {
          "color": "#9edae5",
          "line": {
           "width": 0
          },
          "size": 20,
          "symbol": "circle"
         },
         "mode": "markers",
         "name": "cluster 4",
         "opacity": 0.7,
         "text": [
          "id: 0",
          "id: 6",
          "id: 8",
          "id: 11",
          "id: 16",
          "id: 20",
          "id: 29",
          "id: 31",
          "id: 38",
          "id: 41",
          "id: 45",
          "id: 49",
          "id: 51",
          "id: 52",
          "id: 58",
          "id: 61",
          "id: 65",
          "id: 70",
          "id: 73",
          "id: 82",
          "id: 84",
          "id: 86",
          "id: 90",
          "id: 92",
          "id: 93",
          "id: 95",
          "id: 96",
          "id: 97"
         ],
         "type": "scatter",
         "x": [
          2.0522343035271393,
          1.2171510918001254,
          0.9414635394595322,
          1.0967521555295663,
          1.107185677642862,
          2.451407520755747,
          0.23199385180845258,
          0.400995048261256,
          0.9836023026756582,
          0.28580507774650277,
          0.9744377434677891,
          1.1668815543625948,
          1.914114084014839,
          2.1365390615249242,
          0.11197413782921638,
          1.1083184936521784,
          0.898951579420749,
          0.1524435086120049,
          -0.0018498224554941466,
          1.1910821081093115,
          0.7647715131543927,
          1.9284636390271377,
          1.7191804742315888,
          0.9951654087578209,
          1.6554595227124245,
          0.6296847793550169,
          2.051854589226835,
          2.0060758853967133
         ],
         "y": [
          -0.5717636373273437,
          -0.5641309623200433,
          -1.3585972582608203,
          -0.5467281399000306,
          -1.1101508331018655,
          0.39810654569211507,
          -0.5266037441459702,
          -1.5249609182158328,
          -0.39406660054586096,
          -0.692512589136348,
          -0.37261462978712573,
          -0.6016850428797461,
          -0.6329806876298357,
          0.6970622970878484,
          -0.23736019971278183,
          0.18579391120921515,
          0.5209302734653245,
          -0.9842341303915129,
          -0.20820000717303191,
          -0.3858269540343366,
          -0.4307412987311706,
          -0.42116179697889844,
          0.5299985881863778,
          -0.4138178952847965,
          -0.8512628606157535,
          0.08257034761466907,
          -0.30423206090627214,
          -0.5953911104262084
         ]
        }
       ],
       "layout": {
        "font": {
         "family": "Courier New, monospace",
         "size": 40
        },
        "template": {
         "data": {
          "bar": [
           {
            "error_x": {
             "color": "#2a3f5f"
            },
            "error_y": {
             "color": "#2a3f5f"
            },
            "marker": {
             "line": {
              "color": "#E5ECF6",
              "width": 0.5
             },
             "pattern": {
              "fillmode": "overlay",
              "size": 10,
              "solidity": 0.2
             }
            },
            "type": "bar"
           }
          ],
          "barpolar": [
           {
            "marker": {
             "line": {
              "color": "#E5ECF6",
              "width": 0.5
             },
             "pattern": {
              "fillmode": "overlay",
              "size": 10,
              "solidity": 0.2
             }
            },
            "type": "barpolar"
           }
          ],
          "carpet": [
           {
            "aaxis": {
             "endlinecolor": "#2a3f5f",
             "gridcolor": "white",
             "linecolor": "white",
             "minorgridcolor": "white",
             "startlinecolor": "#2a3f5f"
            },
            "baxis": {
             "endlinecolor": "#2a3f5f",
             "gridcolor": "white",
             "linecolor": "white",
             "minorgridcolor": "white",
             "startlinecolor": "#2a3f5f"
            },
            "type": "carpet"
           }
          ],
          "choropleth": [
           {
            "colorbar": {
             "outlinewidth": 0,
             "ticks": ""
            },
            "type": "choropleth"
           }
          ],
          "contour": [
           {
            "colorbar": {
             "outlinewidth": 0,
             "ticks": ""
            },
            "colorscale": [
             [
              0,
              "#0d0887"
             ],
             [
              0.1111111111111111,
              "#46039f"
             ],
             [
              0.2222222222222222,
              "#7201a8"
             ],
             [
              0.3333333333333333,
              "#9c179e"
             ],
             [
              0.4444444444444444,
              "#bd3786"
             ],
             [
              0.5555555555555556,
              "#d8576b"
             ],
             [
              0.6666666666666666,
              "#ed7953"
             ],
             [
              0.7777777777777778,
              "#fb9f3a"
             ],
             [
              0.8888888888888888,
              "#fdca26"
             ],
             [
              1,
              "#f0f921"
             ]
            ],
            "type": "contour"
           }
          ],
          "contourcarpet": [
           {
            "colorbar": {
             "outlinewidth": 0,
             "ticks": ""
            },
            "type": "contourcarpet"
           }
          ],
          "heatmap": [
           {
            "colorbar": {
             "outlinewidth": 0,
             "ticks": ""
            },
            "colorscale": [
             [
              0,
              "#0d0887"
             ],
             [
              0.1111111111111111,
              "#46039f"
             ],
             [
              0.2222222222222222,
              "#7201a8"
             ],
             [
              0.3333333333333333,
              "#9c179e"
             ],
             [
              0.4444444444444444,
              "#bd3786"
             ],
             [
              0.5555555555555556,
              "#d8576b"
             ],
             [
              0.6666666666666666,
              "#ed7953"
             ],
             [
              0.7777777777777778,
              "#fb9f3a"
             ],
             [
              0.8888888888888888,
              "#fdca26"
             ],
             [
              1,
              "#f0f921"
             ]
            ],
            "type": "heatmap"
           }
          ],
          "heatmapgl": [
           {
            "colorbar": {
             "outlinewidth": 0,
             "ticks": ""
            },
            "colorscale": [
             [
              0,
              "#0d0887"
             ],
             [
              0.1111111111111111,
              "#46039f"
             ],
             [
              0.2222222222222222,
              "#7201a8"
             ],
             [
              0.3333333333333333,
              "#9c179e"
             ],
             [
              0.4444444444444444,
              "#bd3786"
             ],
             [
              0.5555555555555556,
              "#d8576b"
             ],
             [
              0.6666666666666666,
              "#ed7953"
             ],
             [
              0.7777777777777778,
              "#fb9f3a"
             ],
             [
              0.8888888888888888,
              "#fdca26"
             ],
             [
              1,
              "#f0f921"
             ]
            ],
            "type": "heatmapgl"
           }
          ],
          "histogram": [
           {
            "marker": {
             "pattern": {
              "fillmode": "overlay",
              "size": 10,
              "solidity": 0.2
             }
            },
            "type": "histogram"
           }
          ],
          "histogram2d": [
           {
            "colorbar": {
             "outlinewidth": 0,
             "ticks": ""
            },
            "colorscale": [
             [
              0,
              "#0d0887"
             ],
             [
              0.1111111111111111,
              "#46039f"
             ],
             [
              0.2222222222222222,
              "#7201a8"
             ],
             [
              0.3333333333333333,
              "#9c179e"
             ],
             [
              0.4444444444444444,
              "#bd3786"
             ],
             [
              0.5555555555555556,
              "#d8576b"
             ],
             [
              0.6666666666666666,
              "#ed7953"
             ],
             [
              0.7777777777777778,
              "#fb9f3a"
             ],
             [
              0.8888888888888888,
              "#fdca26"
             ],
             [
              1,
              "#f0f921"
             ]
            ],
            "type": "histogram2d"
           }
          ],
          "histogram2dcontour": [
           {
            "colorbar": {
             "outlinewidth": 0,
             "ticks": ""
            },
            "colorscale": [
             [
              0,
              "#0d0887"
             ],
             [
              0.1111111111111111,
              "#46039f"
             ],
             [
              0.2222222222222222,
              "#7201a8"
             ],
             [
              0.3333333333333333,
              "#9c179e"
             ],
             [
              0.4444444444444444,
              "#bd3786"
             ],
             [
              0.5555555555555556,
              "#d8576b"
             ],
             [
              0.6666666666666666,
              "#ed7953"
             ],
             [
              0.7777777777777778,
              "#fb9f3a"
             ],
             [
              0.8888888888888888,
              "#fdca26"
             ],
             [
              1,
              "#f0f921"
             ]
            ],
            "type": "histogram2dcontour"
           }
          ],
          "mesh3d": [
           {
            "colorbar": {
             "outlinewidth": 0,
             "ticks": ""
            },
            "type": "mesh3d"
           }
          ],
          "parcoords": [
           {
            "line": {
             "colorbar": {
              "outlinewidth": 0,
              "ticks": ""
             }
            },
            "type": "parcoords"
           }
          ],
          "pie": [
           {
            "automargin": true,
            "type": "pie"
           }
          ],
          "scatter": [
           {
            "fillpattern": {
             "fillmode": "overlay",
             "size": 10,
             "solidity": 0.2
            },
            "type": "scatter"
           }
          ],
          "scatter3d": [
           {
            "line": {
             "colorbar": {
              "outlinewidth": 0,
              "ticks": ""
             }
            },
            "marker": {
             "colorbar": {
              "outlinewidth": 0,
              "ticks": ""
             }
            },
            "type": "scatter3d"
           }
          ],
          "scattercarpet": [
           {
            "marker": {
             "colorbar": {
              "outlinewidth": 0,
              "ticks": ""
             }
            },
            "type": "scattercarpet"
           }
          ],
          "scattergeo": [
           {
            "marker": {
             "colorbar": {
              "outlinewidth": 0,
              "ticks": ""
             }
            },
            "type": "scattergeo"
           }
          ],
          "scattergl": [
           {
            "marker": {
             "colorbar": {
              "outlinewidth": 0,
              "ticks": ""
             }
            },
            "type": "scattergl"
           }
          ],
          "scattermapbox": [
           {
            "marker": {
             "colorbar": {
              "outlinewidth": 0,
              "ticks": ""
             }
            },
            "type": "scattermapbox"
           }
          ],
          "scatterpolar": [
           {
            "marker": {
             "colorbar": {
              "outlinewidth": 0,
              "ticks": ""
             }
            },
            "type": "scatterpolar"
           }
          ],
          "scatterpolargl": [
           {
            "marker": {
             "colorbar": {
              "outlinewidth": 0,
              "ticks": ""
             }
            },
            "type": "scatterpolargl"
           }
          ],
          "scatterternary": [
           {
            "marker": {
             "colorbar": {
              "outlinewidth": 0,
              "ticks": ""
             }
            },
            "type": "scatterternary"
           }
          ],
          "surface": [
           {
            "colorbar": {
             "outlinewidth": 0,
             "ticks": ""
            },
            "colorscale": [
             [
              0,
              "#0d0887"
             ],
             [
              0.1111111111111111,
              "#46039f"
             ],
             [
              0.2222222222222222,
              "#7201a8"
             ],
             [
              0.3333333333333333,
              "#9c179e"
             ],
             [
              0.4444444444444444,
              "#bd3786"
             ],
             [
              0.5555555555555556,
              "#d8576b"
             ],
             [
              0.6666666666666666,
              "#ed7953"
             ],
             [
              0.7777777777777778,
              "#fb9f3a"
             ],
             [
              0.8888888888888888,
              "#fdca26"
             ],
             [
              1,
              "#f0f921"
             ]
            ],
            "type": "surface"
           }
          ],
          "table": [
           {
            "cells": {
             "fill": {
              "color": "#EBF0F8"
             },
             "line": {
              "color": "white"
             }
            },
            "header": {
             "fill": {
              "color": "#C8D4E3"
             },
             "line": {
              "color": "white"
             }
            },
            "type": "table"
           }
          ]
         },
         "layout": {
          "annotationdefaults": {
           "arrowcolor": "#2a3f5f",
           "arrowhead": 0,
           "arrowwidth": 1
          },
          "autotypenumbers": "strict",
          "coloraxis": {
           "colorbar": {
            "outlinewidth": 0,
            "ticks": ""
           }
          },
          "colorscale": {
           "diverging": [
            [
             0,
             "#8e0152"
            ],
            [
             0.1,
             "#c51b7d"
            ],
            [
             0.2,
             "#de77ae"
            ],
            [
             0.3,
             "#f1b6da"
            ],
            [
             0.4,
             "#fde0ef"
            ],
            [
             0.5,
             "#f7f7f7"
            ],
            [
             0.6,
             "#e6f5d0"
            ],
            [
             0.7,
             "#b8e186"
            ],
            [
             0.8,
             "#7fbc41"
            ],
            [
             0.9,
             "#4d9221"
            ],
            [
             1,
             "#276419"
            ]
           ],
           "sequential": [
            [
             0,
             "#0d0887"
            ],
            [
             0.1111111111111111,
             "#46039f"
            ],
            [
             0.2222222222222222,
             "#7201a8"
            ],
            [
             0.3333333333333333,
             "#9c179e"
            ],
            [
             0.4444444444444444,
             "#bd3786"
            ],
            [
             0.5555555555555556,
             "#d8576b"
            ],
            [
             0.6666666666666666,
             "#ed7953"
            ],
            [
             0.7777777777777778,
             "#fb9f3a"
            ],
            [
             0.8888888888888888,
             "#fdca26"
            ],
            [
             1,
             "#f0f921"
            ]
           ],
           "sequentialminus": [
            [
             0,
             "#0d0887"
            ],
            [
             0.1111111111111111,
             "#46039f"
            ],
            [
             0.2222222222222222,
             "#7201a8"
            ],
            [
             0.3333333333333333,
             "#9c179e"
            ],
            [
             0.4444444444444444,
             "#bd3786"
            ],
            [
             0.5555555555555556,
             "#d8576b"
            ],
            [
             0.6666666666666666,
             "#ed7953"
            ],
            [
             0.7777777777777778,
             "#fb9f3a"
            ],
            [
             0.8888888888888888,
             "#fdca26"
            ],
            [
             1,
             "#f0f921"
            ]
           ]
          },
          "colorway": [
           "#636efa",
           "#EF553B",
           "#00cc96",
           "#ab63fa",
           "#FFA15A",
           "#19d3f3",
           "#FF6692",
           "#B6E880",
           "#FF97FF",
           "#FECB52"
          ],
          "font": {
           "color": "#2a3f5f"
          },
          "geo": {
           "bgcolor": "white",
           "lakecolor": "white",
           "landcolor": "#E5ECF6",
           "showlakes": true,
           "showland": true,
           "subunitcolor": "white"
          },
          "hoverlabel": {
           "align": "left"
          },
          "hovermode": "closest",
          "mapbox": {
           "style": "light"
          },
          "paper_bgcolor": "white",
          "plot_bgcolor": "#E5ECF6",
          "polar": {
           "angularaxis": {
            "gridcolor": "white",
            "linecolor": "white",
            "ticks": ""
           },
           "bgcolor": "#E5ECF6",
           "radialaxis": {
            "gridcolor": "white",
            "linecolor": "white",
            "ticks": ""
           }
          },
          "scene": {
           "xaxis": {
            "backgroundcolor": "#E5ECF6",
            "gridcolor": "white",
            "gridwidth": 2,
            "linecolor": "white",
            "showbackground": true,
            "ticks": "",
            "zerolinecolor": "white"
           },
           "yaxis": {
            "backgroundcolor": "#E5ECF6",
            "gridcolor": "white",
            "gridwidth": 2,
            "linecolor": "white",
            "showbackground": true,
            "ticks": "",
            "zerolinecolor": "white"
           },
           "zaxis": {
            "backgroundcolor": "#E5ECF6",
            "gridcolor": "white",
            "gridwidth": 2,
            "linecolor": "white",
            "showbackground": true,
            "ticks": "",
            "zerolinecolor": "white"
           }
          },
          "shapedefaults": {
           "line": {
            "color": "#2a3f5f"
           }
          },
          "ternary": {
           "aaxis": {
            "gridcolor": "white",
            "linecolor": "white",
            "ticks": ""
           },
           "baxis": {
            "gridcolor": "white",
            "linecolor": "white",
            "ticks": ""
           },
           "bgcolor": "#E5ECF6",
           "caxis": {
            "gridcolor": "white",
            "linecolor": "white",
            "ticks": ""
           }
          },
          "title": {
           "x": 0.05
          },
          "xaxis": {
           "automargin": true,
           "gridcolor": "white",
           "linecolor": "white",
           "ticks": "",
           "title": {
            "standoff": 15
           },
           "zerolinecolor": "white",
           "zerolinewidth": 2
          },
          "yaxis": {
           "automargin": true,
           "gridcolor": "white",
           "linecolor": "white",
           "ticks": "",
           "title": {
            "standoff": 15
           },
           "zerolinecolor": "white",
           "zerolinewidth": 2
          }
         }
        },
        "title": {
         "font": {
          "size": 40
         },
         "text": "2-D projected space",
         "x": 0.5,
         "xanchor": "center",
         "y": 0.9,
         "yanchor": "top"
        },
        "xaxis": {
         "title": {
          "text": "Dimension 1"
         }
        },
        "yaxis": {
         "title": {
          "text": "Dimension 2"
         }
        }
       }
      },
      "text/html": [
       "<div>                            <div id=\"4f20468f-8888-4be9-b0b3-cdb97129bd1d\" class=\"plotly-graph-div\" style=\"height:525px; width:100%;\"></div>            <script type=\"text/javascript\">                require([\"plotly\"], function(Plotly) {                    window.PLOTLYENV=window.PLOTLYENV || {};                                    if (document.getElementById(\"4f20468f-8888-4be9-b0b3-cdb97129bd1d\")) {                    Plotly.newPlot(                        \"4f20468f-8888-4be9-b0b3-cdb97129bd1d\",                        [{\"marker\":{\"color\":\"#1f77b4\",\"line\":{\"width\":0},\"size\":20,\"symbol\":\"circle\"},\"mode\":\"markers\",\"name\":\"cluster 0\",\"opacity\":0.7,\"text\":[\"id: 3\",\"id: 7\",\"id: 24\",\"id: 26\",\"id: 46\",\"id: 55\",\"id: 57\",\"id: 63\",\"id: 64\",\"id: 66\",\"id: 68\",\"id: 69\",\"id: 72\",\"id: 81\",\"id: 85\",\"id: 89\",\"id: 91\",\"id: 98\"],\"x\":[-0.9762600823255162,-0.7465008834954081,-1.9525611459354482,-0.5774535198673669,-1.1271574814450787,-0.6805971089404972,-0.29799276050463863,-0.61234965724734,-0.7155564629159288,-0.5284118653094584,-0.6420267738972668,-0.7884251034041552,-0.5334353376720489,-1.5973412599003713,-0.611844887131214,-0.9384960911059486,-0.22298784253279313,-1.494838543147144],\"y\":[1.203562851767897,0.3345091510161867,1.018716534821395,1.691309602443931,1.117483624609335,0.999916070915826,0.055620208706471615,0.8454621269409032,0.404353421094482,0.7319139984358344,1.1973464286836477,0.33893931494977697,2.254549518993961,0.9382711249627794,1.1770190201564257,1.5195649101324908,1.036665856691592,1.327563255120805],\"type\":\"scatter\",\"hovertemplate\":\"<b>%{text}</b><br><br>\"},{\"marker\":{\"color\":\"#98df8a\",\"line\":{\"width\":0},\"size\":20,\"symbol\":\"circle\"},\"mode\":\"markers\",\"name\":\"cluster 1\",\"opacity\":0.7,\"text\":[\"id: 10\",\"id: 13\",\"id: 15\",\"id: 22\",\"id: 25\",\"id: 32\",\"id: 36\",\"id: 44\",\"id: 62\",\"id: 67\",\"id: 71\",\"id: 76\",\"id: 78\",\"id: 79\",\"id: 88\",\"id: 99\"],\"x\":[0.489637284774293,0.9614708014390637,1.2517287725903103,1.4895652467920257,0.9137985465064096,-0.8529950165850991,0.56714995908658,0.263968342574999,1.1164463263922944,0.2642178449126913,1.3106906741196842,0.2777045880305574,0.7499696334519343,1.289570991039644,0.7863211255215247,-0.21425910238058907],\"y\":[1.722229360841385,0.6512132996091673,2.453186087131724,0.9952836330937979,2.413160607627156,1.2393435696139967,1.0643006532372838,1.3395071522673627,0.8122699562358167,1.9282348567164433,-0.023413689761793012,0.02485254690514383,1.0768965156413326,1.0593953718192786,0.6262865715955778,1.0653507843040504],\"type\":\"scatter\",\"hovertemplate\":\"<b>%{text}</b><br><br>\"},{\"marker\":{\"color\":\"#8c564b\",\"line\":{\"width\":0},\"size\":20,\"symbol\":\"circle\"},\"mode\":\"markers\",\"name\":\"cluster 2\",\"opacity\":0.7,\"text\":[\"id: 5\",\"id: 9\",\"id: 12\",\"id: 19\",\"id: 21\",\"id: 28\",\"id: 33\",\"id: 34\",\"id: 35\",\"id: 39\",\"id: 40\",\"id: 42\",\"id: 43\",\"id: 47\",\"id: 48\",\"id: 54\",\"id: 74\",\"id: 75\"],\"x\":[-1.0070948554960617,-1.140836094557604,-0.6667021917015173,0.5069108061224046,-2.0471628857259403,-1.8945589179959492,-1.2787503021161544,0.07426287456791121,-0.11456830645463173,-2.081156491264764,-2.1814006261896637,0.059108989881631165,-1.3632702324016819,0.02715522929362566,-0.4039007239905623,-0.4152936256050145,0.13359151390071436,-1.5182676256062537],\"y\":[0.5022253159932265,-1.40809324417241,-1.2326543846233704,-1.4262331738669767,-0.5417834380423381,0.7476928395005865,-0.5454452661400093,-0.9961422171204787,-0.41301679029221294,0.3135560794230417,-0.3605676823419366,-0.25601537254488876,-0.5335030182356213,-0.7708641676488243,-0.6845928499488051,0.33208643711123575,-1.5973993764480292,-1.2311415312568645],\"type\":\"scatter\",\"hovertemplate\":\"<b>%{text}</b><br><br>\"},{\"marker\":{\"color\":\"#c7c7c7\",\"line\":{\"width\":0},\"size\":20,\"symbol\":\"circle\"},\"mode\":\"markers\",\"name\":\"cluster 3\",\"opacity\":0.7,\"text\":[\"id: 1\",\"id: 2\",\"id: 4\",\"id: 14\",\"id: 17\",\"id: 18\",\"id: 23\",\"id: 27\",\"id: 30\",\"id: 37\",\"id: 50\",\"id: 53\",\"id: 56\",\"id: 59\",\"id: 60\",\"id: 77\",\"id: 80\",\"id: 83\",\"id: 87\",\"id: 94\"],\"x\":[-0.7517111927223082,-0.17837595738476666,-1.2656538025029973,-0.32869444793052716,-0.14443941825295809,-0.7598977568320661,-0.9798373552133747,-0.7821343867914153,-1.672265361757412,-0.28222302993615495,-0.006549840269077135,-0.5125125537370371,-0.21013113771377342,-1.0466001781447174,-0.3219275430811109,-0.30733534070821716,-1.7976996964291954,-0.4707108235489795,-0.7999668436423971,0.1377120908424085],\"y\":[-0.8322527626818689,-0.09849688991953315,-0.13286430540026228,-1.3665593041569504,0.04701382144486892,-0.05706296758773681,-1.45050947151891,-1.1177671519693562,-0.6156628418476516,-0.08078624591451557,-1.0865844303795253,-0.17696341504179983,-1.128031924817356,-1.297745352396896,-1.1249425670911497,-0.5958540654023293,-0.6704251491651178,-1.635578021474643,-0.8186495808852784,-0.98468843621074],\"type\":\"scatter\",\"hovertemplate\":\"<b>%{text}</b><br><br>\"},{\"marker\":{\"color\":\"#9edae5\",\"line\":{\"width\":0},\"size\":20,\"symbol\":\"circle\"},\"mode\":\"markers\",\"name\":\"cluster 4\",\"opacity\":0.7,\"text\":[\"id: 0\",\"id: 6\",\"id: 8\",\"id: 11\",\"id: 16\",\"id: 20\",\"id: 29\",\"id: 31\",\"id: 38\",\"id: 41\",\"id: 45\",\"id: 49\",\"id: 51\",\"id: 52\",\"id: 58\",\"id: 61\",\"id: 65\",\"id: 70\",\"id: 73\",\"id: 82\",\"id: 84\",\"id: 86\",\"id: 90\",\"id: 92\",\"id: 93\",\"id: 95\",\"id: 96\",\"id: 97\"],\"x\":[2.0522343035271393,1.2171510918001254,0.9414635394595322,1.0967521555295663,1.107185677642862,2.451407520755747,0.23199385180845258,0.400995048261256,0.9836023026756582,0.28580507774650277,0.9744377434677891,1.1668815543625948,1.914114084014839,2.1365390615249242,0.11197413782921638,1.1083184936521784,0.898951579420749,0.1524435086120049,-0.0018498224554941466,1.1910821081093115,0.7647715131543927,1.9284636390271377,1.7191804742315888,0.9951654087578209,1.6554595227124245,0.6296847793550169,2.051854589226835,2.0060758853967133],\"y\":[-0.5717636373273437,-0.5641309623200433,-1.3585972582608203,-0.5467281399000306,-1.1101508331018655,0.39810654569211507,-0.5266037441459702,-1.5249609182158328,-0.39406660054586096,-0.692512589136348,-0.37261462978712573,-0.6016850428797461,-0.6329806876298357,0.6970622970878484,-0.23736019971278183,0.18579391120921515,0.5209302734653245,-0.9842341303915129,-0.20820000717303191,-0.3858269540343366,-0.4307412987311706,-0.42116179697889844,0.5299985881863778,-0.4138178952847965,-0.8512628606157535,0.08257034761466907,-0.30423206090627214,-0.5953911104262084],\"type\":\"scatter\",\"hovertemplate\":\"<b>%{text}</b><br><br>\"}],                        {\"template\":{\"data\":{\"histogram2dcontour\":[{\"type\":\"histogram2dcontour\",\"colorbar\":{\"outlinewidth\":0,\"ticks\":\"\"},\"colorscale\":[[0.0,\"#0d0887\"],[0.1111111111111111,\"#46039f\"],[0.2222222222222222,\"#7201a8\"],[0.3333333333333333,\"#9c179e\"],[0.4444444444444444,\"#bd3786\"],[0.5555555555555556,\"#d8576b\"],[0.6666666666666666,\"#ed7953\"],[0.7777777777777778,\"#fb9f3a\"],[0.8888888888888888,\"#fdca26\"],[1.0,\"#f0f921\"]]}],\"choropleth\":[{\"type\":\"choropleth\",\"colorbar\":{\"outlinewidth\":0,\"ticks\":\"\"}}],\"histogram2d\":[{\"type\":\"histogram2d\",\"colorbar\":{\"outlinewidth\":0,\"ticks\":\"\"},\"colorscale\":[[0.0,\"#0d0887\"],[0.1111111111111111,\"#46039f\"],[0.2222222222222222,\"#7201a8\"],[0.3333333333333333,\"#9c179e\"],[0.4444444444444444,\"#bd3786\"],[0.5555555555555556,\"#d8576b\"],[0.6666666666666666,\"#ed7953\"],[0.7777777777777778,\"#fb9f3a\"],[0.8888888888888888,\"#fdca26\"],[1.0,\"#f0f921\"]]}],\"heatmap\":[{\"type\":\"heatmap\",\"colorbar\":{\"outlinewidth\":0,\"ticks\":\"\"},\"colorscale\":[[0.0,\"#0d0887\"],[0.1111111111111111,\"#46039f\"],[0.2222222222222222,\"#7201a8\"],[0.3333333333333333,\"#9c179e\"],[0.4444444444444444,\"#bd3786\"],[0.5555555555555556,\"#d8576b\"],[0.6666666666666666,\"#ed7953\"],[0.7777777777777778,\"#fb9f3a\"],[0.8888888888888888,\"#fdca26\"],[1.0,\"#f0f921\"]]}],\"heatmapgl\":[{\"type\":\"heatmapgl\",\"colorbar\":{\"outlinewidth\":0,\"ticks\":\"\"},\"colorscale\":[[0.0,\"#0d0887\"],[0.1111111111111111,\"#46039f\"],[0.2222222222222222,\"#7201a8\"],[0.3333333333333333,\"#9c179e\"],[0.4444444444444444,\"#bd3786\"],[0.5555555555555556,\"#d8576b\"],[0.6666666666666666,\"#ed7953\"],[0.7777777777777778,\"#fb9f3a\"],[0.8888888888888888,\"#fdca26\"],[1.0,\"#f0f921\"]]}],\"contourcarpet\":[{\"type\":\"contourcarpet\",\"colorbar\":{\"outlinewidth\":0,\"ticks\":\"\"}}],\"contour\":[{\"type\":\"contour\",\"colorbar\":{\"outlinewidth\":0,\"ticks\":\"\"},\"colorscale\":[[0.0,\"#0d0887\"],[0.1111111111111111,\"#46039f\"],[0.2222222222222222,\"#7201a8\"],[0.3333333333333333,\"#9c179e\"],[0.4444444444444444,\"#bd3786\"],[0.5555555555555556,\"#d8576b\"],[0.6666666666666666,\"#ed7953\"],[0.7777777777777778,\"#fb9f3a\"],[0.8888888888888888,\"#fdca26\"],[1.0,\"#f0f921\"]]}],\"surface\":[{\"type\":\"surface\",\"colorbar\":{\"outlinewidth\":0,\"ticks\":\"\"},\"colorscale\":[[0.0,\"#0d0887\"],[0.1111111111111111,\"#46039f\"],[0.2222222222222222,\"#7201a8\"],[0.3333333333333333,\"#9c179e\"],[0.4444444444444444,\"#bd3786\"],[0.5555555555555556,\"#d8576b\"],[0.6666666666666666,\"#ed7953\"],[0.7777777777777778,\"#fb9f3a\"],[0.8888888888888888,\"#fdca26\"],[1.0,\"#f0f921\"]]}],\"mesh3d\":[{\"type\":\"mesh3d\",\"colorbar\":{\"outlinewidth\":0,\"ticks\":\"\"}}],\"scatter\":[{\"fillpattern\":{\"fillmode\":\"overlay\",\"size\":10,\"solidity\":0.2},\"type\":\"scatter\"}],\"parcoords\":[{\"type\":\"parcoords\",\"line\":{\"colorbar\":{\"outlinewidth\":0,\"ticks\":\"\"}}}],\"scatterpolargl\":[{\"type\":\"scatterpolargl\",\"marker\":{\"colorbar\":{\"outlinewidth\":0,\"ticks\":\"\"}}}],\"bar\":[{\"error_x\":{\"color\":\"#2a3f5f\"},\"error_y\":{\"color\":\"#2a3f5f\"},\"marker\":{\"line\":{\"color\":\"#E5ECF6\",\"width\":0.5},\"pattern\":{\"fillmode\":\"overlay\",\"size\":10,\"solidity\":0.2}},\"type\":\"bar\"}],\"scattergeo\":[{\"type\":\"scattergeo\",\"marker\":{\"colorbar\":{\"outlinewidth\":0,\"ticks\":\"\"}}}],\"scatterpolar\":[{\"type\":\"scatterpolar\",\"marker\":{\"colorbar\":{\"outlinewidth\":0,\"ticks\":\"\"}}}],\"histogram\":[{\"marker\":{\"pattern\":{\"fillmode\":\"overlay\",\"size\":10,\"solidity\":0.2}},\"type\":\"histogram\"}],\"scattergl\":[{\"type\":\"scattergl\",\"marker\":{\"colorbar\":{\"outlinewidth\":0,\"ticks\":\"\"}}}],\"scatter3d\":[{\"type\":\"scatter3d\",\"line\":{\"colorbar\":{\"outlinewidth\":0,\"ticks\":\"\"}},\"marker\":{\"colorbar\":{\"outlinewidth\":0,\"ticks\":\"\"}}}],\"scattermapbox\":[{\"type\":\"scattermapbox\",\"marker\":{\"colorbar\":{\"outlinewidth\":0,\"ticks\":\"\"}}}],\"scatterternary\":[{\"type\":\"scatterternary\",\"marker\":{\"colorbar\":{\"outlinewidth\":0,\"ticks\":\"\"}}}],\"scattercarpet\":[{\"type\":\"scattercarpet\",\"marker\":{\"colorbar\":{\"outlinewidth\":0,\"ticks\":\"\"}}}],\"carpet\":[{\"aaxis\":{\"endlinecolor\":\"#2a3f5f\",\"gridcolor\":\"white\",\"linecolor\":\"white\",\"minorgridcolor\":\"white\",\"startlinecolor\":\"#2a3f5f\"},\"baxis\":{\"endlinecolor\":\"#2a3f5f\",\"gridcolor\":\"white\",\"linecolor\":\"white\",\"minorgridcolor\":\"white\",\"startlinecolor\":\"#2a3f5f\"},\"type\":\"carpet\"}],\"table\":[{\"cells\":{\"fill\":{\"color\":\"#EBF0F8\"},\"line\":{\"color\":\"white\"}},\"header\":{\"fill\":{\"color\":\"#C8D4E3\"},\"line\":{\"color\":\"white\"}},\"type\":\"table\"}],\"barpolar\":[{\"marker\":{\"line\":{\"color\":\"#E5ECF6\",\"width\":0.5},\"pattern\":{\"fillmode\":\"overlay\",\"size\":10,\"solidity\":0.2}},\"type\":\"barpolar\"}],\"pie\":[{\"automargin\":true,\"type\":\"pie\"}]},\"layout\":{\"autotypenumbers\":\"strict\",\"colorway\":[\"#636efa\",\"#EF553B\",\"#00cc96\",\"#ab63fa\",\"#FFA15A\",\"#19d3f3\",\"#FF6692\",\"#B6E880\",\"#FF97FF\",\"#FECB52\"],\"font\":{\"color\":\"#2a3f5f\"},\"hovermode\":\"closest\",\"hoverlabel\":{\"align\":\"left\"},\"paper_bgcolor\":\"white\",\"plot_bgcolor\":\"#E5ECF6\",\"polar\":{\"bgcolor\":\"#E5ECF6\",\"angularaxis\":{\"gridcolor\":\"white\",\"linecolor\":\"white\",\"ticks\":\"\"},\"radialaxis\":{\"gridcolor\":\"white\",\"linecolor\":\"white\",\"ticks\":\"\"}},\"ternary\":{\"bgcolor\":\"#E5ECF6\",\"aaxis\":{\"gridcolor\":\"white\",\"linecolor\":\"white\",\"ticks\":\"\"},\"baxis\":{\"gridcolor\":\"white\",\"linecolor\":\"white\",\"ticks\":\"\"},\"caxis\":{\"gridcolor\":\"white\",\"linecolor\":\"white\",\"ticks\":\"\"}},\"coloraxis\":{\"colorbar\":{\"outlinewidth\":0,\"ticks\":\"\"}},\"colorscale\":{\"sequential\":[[0.0,\"#0d0887\"],[0.1111111111111111,\"#46039f\"],[0.2222222222222222,\"#7201a8\"],[0.3333333333333333,\"#9c179e\"],[0.4444444444444444,\"#bd3786\"],[0.5555555555555556,\"#d8576b\"],[0.6666666666666666,\"#ed7953\"],[0.7777777777777778,\"#fb9f3a\"],[0.8888888888888888,\"#fdca26\"],[1.0,\"#f0f921\"]],\"sequentialminus\":[[0.0,\"#0d0887\"],[0.1111111111111111,\"#46039f\"],[0.2222222222222222,\"#7201a8\"],[0.3333333333333333,\"#9c179e\"],[0.4444444444444444,\"#bd3786\"],[0.5555555555555556,\"#d8576b\"],[0.6666666666666666,\"#ed7953\"],[0.7777777777777778,\"#fb9f3a\"],[0.8888888888888888,\"#fdca26\"],[1.0,\"#f0f921\"]],\"diverging\":[[0,\"#8e0152\"],[0.1,\"#c51b7d\"],[0.2,\"#de77ae\"],[0.3,\"#f1b6da\"],[0.4,\"#fde0ef\"],[0.5,\"#f7f7f7\"],[0.6,\"#e6f5d0\"],[0.7,\"#b8e186\"],[0.8,\"#7fbc41\"],[0.9,\"#4d9221\"],[1,\"#276419\"]]},\"xaxis\":{\"gridcolor\":\"white\",\"linecolor\":\"white\",\"ticks\":\"\",\"title\":{\"standoff\":15},\"zerolinecolor\":\"white\",\"automargin\":true,\"zerolinewidth\":2},\"yaxis\":{\"gridcolor\":\"white\",\"linecolor\":\"white\",\"ticks\":\"\",\"title\":{\"standoff\":15},\"zerolinecolor\":\"white\",\"automargin\":true,\"zerolinewidth\":2},\"scene\":{\"xaxis\":{\"backgroundcolor\":\"#E5ECF6\",\"gridcolor\":\"white\",\"linecolor\":\"white\",\"showbackground\":true,\"ticks\":\"\",\"zerolinecolor\":\"white\",\"gridwidth\":2},\"yaxis\":{\"backgroundcolor\":\"#E5ECF6\",\"gridcolor\":\"white\",\"linecolor\":\"white\",\"showbackground\":true,\"ticks\":\"\",\"zerolinecolor\":\"white\",\"gridwidth\":2},\"zaxis\":{\"backgroundcolor\":\"#E5ECF6\",\"gridcolor\":\"white\",\"linecolor\":\"white\",\"showbackground\":true,\"ticks\":\"\",\"zerolinecolor\":\"white\",\"gridwidth\":2}},\"shapedefaults\":{\"line\":{\"color\":\"#2a3f5f\"}},\"annotationdefaults\":{\"arrowcolor\":\"#2a3f5f\",\"arrowhead\":0,\"arrowwidth\":1},\"geo\":{\"bgcolor\":\"white\",\"landcolor\":\"#E5ECF6\",\"subunitcolor\":\"white\",\"showland\":true,\"showlakes\":true,\"lakecolor\":\"white\"},\"title\":{\"x\":0.05},\"mapbox\":{\"style\":\"light\"}}},\"font\":{\"family\":\"Courier New, monospace\",\"size\":40},\"xaxis\":{\"title\":{\"text\":\"Dimension 1\"}},\"yaxis\":{\"title\":{\"text\":\"Dimension 2\"}},\"title\":{\"font\":{\"size\":40},\"text\":\"2-D projected space\",\"y\":0.9,\"x\":0.5,\"xanchor\":\"center\",\"yanchor\":\"top\"}},                        {\"responsive\": true}                    ).then(function(){\n",
       "                            \n",
       "var gd = document.getElementById('4f20468f-8888-4be9-b0b3-cdb97129bd1d');\n",
       "var x = new MutationObserver(function (mutations, observer) {{\n",
       "        var display = window.getComputedStyle(gd).display;\n",
       "        if (!display || display === 'none') {{\n",
       "            console.log([gd, 'removed!']);\n",
       "            Plotly.purge(gd);\n",
       "            observer.disconnect();\n",
       "        }}\n",
       "}});\n",
       "\n",
       "// Listen for the removal of the full notebook cells\n",
       "var notebookContainer = gd.closest('#notebook-container');\n",
       "if (notebookContainer) {{\n",
       "    x.observe(notebookContainer, {childList: true});\n",
       "}}\n",
       "\n",
       "// Listen for the clearing of the current output cell\n",
       "var outputEl = gd.closest('.output');\n",
       "if (outputEl) {{\n",
       "    x.observe(outputEl, {childList: true});\n",
       "}}\n",
       "\n",
       "                        })                };                });            </script>        </div>"
      ]
     },
     "metadata": {},
     "output_type": "display_data"
    }
   ],
   "source": [
    "from aimsim.tasks import ClusterData\n",
    "\n",
    "clustering = ClusterData(n_clusters=5,  # data is clustered into 5 clusters\n",
    "                         clustering_method='kmedoids',\n",
    "                         embedding_plot_settings={\"embedding\": {\"method\": \"pca\"}}\n",
    "                         )\n",
    "clustering(molecule_set)"
   ]
  },
  {
   "cell_type": "code",
   "execution_count": null,
   "metadata": {},
   "outputs": [],
   "source": []
  }
 ],
 "metadata": {
  "kernelspec": {
   "display_name": "Python 3",
   "language": "python",
   "name": "python3"
  },
  "language_info": {
   "codemirror_mode": {
    "name": "ipython",
    "version": 3
   },
   "file_extension": ".py",
   "mimetype": "text/x-python",
   "name": "python",
   "nbconvert_exporter": "python",
   "pygments_lexer": "ipython3",
   "version": "3.7.3"
  }
 },
 "nbformat": 4,
 "nbformat_minor": 4
}
