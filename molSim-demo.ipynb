{
 "cells": [
  {
   "cell_type": "markdown",
   "metadata": {},
   "source": [
    "# molSim Demo\n",
    "This notebook demonstrates the key uses of molSim as a graphical user interface, command line tool, and scripting utility. For detailed explanations and to view the source code for _molSim_, vist our online documentation."
   ]
  },
  {
   "cell_type": "markdown",
   "metadata": {},
   "source": [
    "## Installing _molSim_\n",
    "For users with Python already in use on their devices, it is _highly_ reccomended to first create a virtual environment before installing _molSim_. This package has a large number of dependencies with only a handful of versions supported, so conflicts are likely unless a virtual environment is used.\n",
    "\n",
    "For new Python users, the authors reccomend installing anaconda navigator to manage dependencies for _molSim_ and make installation easier overall. Once anaconda navigator is ready, create a new environment with Python 3.7, open a terminal or command prompt in this environment, and follow the instructions below. \n",
    "\n",
    "We reccomend installing _molSim_ and it's core dependency `RDKit` using the commands shown below (omit exclamation points and the %%capture, unless you are running in a Jupyter notebook):"
   ]
  },
  {
   "cell_type": "code",
   "execution_count": 8,
   "metadata": {},
   "outputs": [],
   "source": [
    "%%capture\n",
    "!conda install -c rdkit rdkit --yes\n",
    "!pip install molSim"
   ]
  },
  {
   "cell_type": "markdown",
   "metadata": {},
   "source": [
    "Now, start the _molSim_ GUI by typing `python -m molSim` or simply `molSim` into the command line."
   ]
  },
  {
   "cell_type": "markdown",
   "metadata": {},
   "source": [
    "## Graphical User Interface Walkthrough\n",
    "For most users, the Graphical User Interface (GUI) will provide access to all the key functionalities in _molSim_. The GUI works by serving the user with dropdowns and text fields which represent settings that would otherwise need to be configured in a file by hand. This file is written to the disk by the GUI as part of execution so that the file can be used as a 'starting point' for more advanced use cases.\n",
    "\n",
    "**Important Note**: Jupyter Notebook _cannot_ run _molSim_ from Binder. In order to actually run the molSim GUI alongside this tutorial, you will need to download this notebook and run it from a local installation of Jupyter, or follow the installation instructions above and start _molSim_ from there. You can install Jupyter [here](https://jupyter.org/install).\n",
    "\n",
    "### Database File\n",
    "\n",
    "#### Similarity PDF\n",
    "\n",
    "#### Similarity Heatmap\n",
    "\n",
    "#### Property Similarity Checkboxes\n",
    "\n",
    "### Target Molecule\n",
    "\n",
    "#### Similarity Heatmap\n",
    "\n",
    "### Similarity Measure\n",
    "Available Similarity Measures are automatically updated according to the fingerprint currently selected. Not all metrics are compatible with all fingerprints, and _molSim_ recognizes will only allow the user to select valid combinations.\n",
    "\n",
    "### Molecular Descriptor\n",
    "\n",
    "#### Show Experimental Descriptors\n",
    " - ccbmlib\n",
    " - mordred\n",
    " - PaDELPy (_coming soon_)\n",
    " \n",
    "### Run\n",
    "\n",
    "### Open Config\n",
    "\n",
    "### Verbose\n",
    "\n",
    "### Outlier Check\n",
    "\n",
    "### Enable Multiple Workers"
   ]
  },
  {
   "cell_type": "markdown",
   "metadata": {},
   "source": [
    "## Command Line and Configuration Files\n",
    "For users who prefer to use _molSim_ without a user interface, a command line interface is provided. This requries the user to manually write confirugation files, but allows access to more granular control and some additional features which are not included in the GUI. This can be invoked by typing `molSim config.yaml` into your terminal or command window, where `config.yaml` is a configuration file you have provided or copied from the _molSim_ repository."
   ]
  },
  {
   "cell_type": "code",
   "execution_count": null,
   "metadata": {},
   "outputs": [],
   "source": []
  },
  {
   "cell_type": "markdown",
   "metadata": {},
   "source": [
    "## Writing Scripts with _molSim_\n",
    "Advanced users may wish to use _molSim_ to create their own desriptors, use the descriptor's provided in _molSim_ for something else entirely, or utilize the various similarity scores. Brief explanation for how to access the core functionalities of _molSim_ from a Python script are shown below."
   ]
  },
  {
   "cell_type": "code",
   "execution_count": null,
   "metadata": {},
   "outputs": [],
   "source": []
  }
 ],
 "metadata": {
  "kernelspec": {
   "display_name": "Python [conda env:.conda-molSim-test-env] *",
   "language": "python",
   "name": "conda-env-.conda-molSim-test-env-py"
  },
  "language_info": {
   "codemirror_mode": {
    "name": "ipython",
    "version": 3
   },
   "file_extension": ".py",
   "mimetype": "text/x-python",
   "name": "python",
   "nbconvert_exporter": "python",
   "pygments_lexer": "ipython3",
   "version": "3.7.9"
  }
 },
 "nbformat": 4,
 "nbformat_minor": 4
}
