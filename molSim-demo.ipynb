{
 "cells": [
  {
   "cell_type": "markdown",
   "metadata": {},
   "source": [
    "# molSim Demo\n",
    "This notebook demonstrates the key uses of molSim as a graphical user interface, command line tool, and scripting utility."
   ]
  },
  {
   "cell_type": "markdown",
   "metadata": {},
   "source": [
    "## Installing _molSim_\n",
    "For users with Python already in use on their devices, it is _highly_ reccomended to first create a virtual environment before installing _molSim_. This package has a large number of dependencies with only a handful of versions supported, so conflicts are likely unless a virtual environment is used.\n",
    "\n",
    "We reccomend installing _molSim_ and it's core dependency `RDKit` using the commands shown below:"
   ]
  },
  {
   "cell_type": "code",
   "execution_count": null,
   "metadata": {},
   "outputs": [],
   "source": [
    "!conda install -c rdkit rdkit\n",
    "!pip install molSim"
   ]
  },
  {
   "cell_type": "markdown",
   "metadata": {},
   "source": [
    "## Graphical User Interface Tutorial\n",
    "For most users, the Graphical User Interface (GUI) will provide access to all the key functionalities in _molSim_. The GUI works by serving the user with dropdowns and text fields which represent settings that would otherwise need to be configured in a file by hand. This file is actually written to the disk by the GUI as part of execution so that the file can be used as a 'starting point' for more advanced use cases."
   ]
  },
  {
   "cell_type": "code",
   "execution_count": null,
   "metadata": {},
   "outputs": [],
   "source": []
  },
  {
   "cell_type": "markdown",
   "metadata": {},
   "source": [
    "## Command Line and Configuration Files\n",
    "For users who prefer to use _molSim_ without a user interface, a command line interface is provided. This requries the user to manually write confirugation files, but allows access to more granular control and some additional features which are not included in the GUI. This can be invoked by typing `molSim config.yaml` into your terminal or command window, where `config.yaml` is a configuration file you have provided or copied from the _molSim_ repository."
   ]
  },
  {
   "cell_type": "code",
   "execution_count": null,
   "metadata": {},
   "outputs": [],
   "source": []
  },
  {
   "cell_type": "markdown",
   "metadata": {},
   "source": [
    "## Writing Scripts with _molSim_\n",
    "Advanced users may wish to use _molSim_ to create their own desriptors, use the descriptor's provided in _molSim_ for something else entirely, or utilize the various similarity scores. Brief explanation for how to access the core functionalities of _molSim_ from a Python script are shown below."
   ]
  },
  {
   "cell_type": "code",
   "execution_count": null,
   "metadata": {},
   "outputs": [],
   "source": []
  }
 ],
 "metadata": {
  "kernelspec": {
   "display_name": "Python 3",
   "language": "python",
   "name": "python3"
  },
  "language_info": {
   "codemirror_mode": {
    "name": "ipython",
    "version": 3
   },
   "file_extension": ".py",
   "mimetype": "text/x-python",
   "name": "python",
   "nbconvert_exporter": "python",
   "pygments_lexer": "ipython3",
   "version": "3.7.9"
  }
 },
 "nbformat": 4,
 "nbformat_minor": 4
}
